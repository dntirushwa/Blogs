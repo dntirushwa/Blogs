{
 "cells": [
  {
   "cell_type": "markdown",
   "metadata": {},
   "source": [
    "## Notebook tasks:\n",
    "### - Save images to an AWS S3 bucket\n",
    "### - Use AWS Rekognition to reverse image search and return tags for each image\n",
    "### - Saves data in both long and wide data frames\n",
    "Brought to you by Natalie Olivo<br>\n",
    "<a href = https://www.linkedin.com/in/natalie-olivo-82548951/>LinkedIn</a><br>\n",
    "<a href = https://nmolivo.github.io/NMOstatic/>Website</a><br>\n",
    "<a href = https://medium.com/@NatalieOlivo>Blog</a><br>\n",
    "<a href = https://github.com/nmolivo>GitHub</a><br>"
   ]
  },
  {
   "cell_type": "code",
   "execution_count": 1,
   "metadata": {
    "collapsed": true
   },
   "outputs": [],
   "source": [
    "import pandas as pd\n",
    "import numpy as np"
   ]
  },
  {
   "cell_type": "code",
   "execution_count": 4,
   "metadata": {
    "collapsed": false
   },
   "outputs": [],
   "source": [
    "df = pd.read_csv(\"../../GA-materials/project-5/Project_TrackMaven/gitignore/newtweets_10percent.csv\")"
   ]
  },
  {
   "cell_type": "code",
   "execution_count": 5,
   "metadata": {
    "collapsed": true
   },
   "outputs": [],
   "source": [
    "image_list = df['link_thumbnail']"
   ]
  },
  {
   "cell_type": "code",
   "execution_count": 6,
   "metadata": {
    "collapsed": false
   },
   "outputs": [
    {
     "data": {
      "text/plain": [
       "'https://media.vanityfair.com/photos/5a0cb19d70fe0563a1ebbf44/16:9/w_1200,h_630,c_limit/t-Lisa-Lucas-Interview-a.jpg'"
      ]
     },
     "execution_count": 6,
     "metadata": {},
     "output_type": "execute_result"
    }
   ],
   "source": [
    "#make sure it looks good!\n",
    "test_1 = image_list[3]\n",
    "test_1"
   ]
  },
  {
   "cell_type": "code",
   "execution_count": 7,
   "metadata": {
    "collapsed": true
   },
   "outputs": [],
   "source": [
    "import boto\n",
    "import boto3\n",
    "conn = boto.connect_s3()\n",
    "import requests"
   ]
  },
  {
   "cell_type": "code",
   "execution_count": 8,
   "metadata": {
    "collapsed": true
   },
   "outputs": [],
   "source": [
    "# Uses the creds in ~/.aws/credentials\n",
    "s3 = boto3.resource('s3')\n",
    "bucket_name_to_upload_image_to = '#########' #insert the name of your bucket here."
   ]
  },
  {
   "cell_type": "code",
   "execution_count": null,
   "metadata": {
    "collapsed": true
   },
   "outputs": [],
   "source": [
    "# Do this as a quick and easy check to make sure your S3 access is OK\n",
    "for bucket in s3.buckets.all():\n",
    "    if bucket.name == bucket_name_to_upload_image_to:\n",
    "        print('Good to go. Found the bucket to upload the image into.')\n",
    "        good_to_go = True\n",
    "\n",
    "if not good_to_go:\n",
    "    print('Not seeing your s3 bucket, might want to double check permissions in IAM')\n",
    "# I learned this trick from the answers to this Stack Overflow question:\n",
    "# https://stackoverflow.com/questions/14346065/upload-image-available-at-public-url-to-s3-using-boto"
   ]
  },
  {
   "cell_type": "code",
   "execution_count": null,
   "metadata": {
    "collapsed": true
   },
   "outputs": [],
   "source": [
    "### We received all our images in the form of links. \n",
    "### We need our images saved to an S3 bucket, preferably without saving them to our hard drive.\n",
    "\n",
    "### Don't have a bucket? What is a bucket? http://docs.aws.amazon.com/AmazonS3/latest/user-guide/create-bucket.html"
   ]
  },
  {
   "cell_type": "code",
   "execution_count": null,
   "metadata": {
    "collapsed": true
   },
   "outputs": [],
   "source": [
    "mapping_dict ={}\n",
    "for i, img_url in enumerate(image_list[0:10000]):\n",
    "    img_name = \"img_%05d\" % (i,)\n",
    "    mapping_dict[img_name] = img_url\n",
    "    \n",
    "    if (img_url == np.nan) | (str(img_url) == \"nan\"):\n",
    "        continue\n",
    "    else:\n",
    "        # Uses the creds in ~/.aws/credentials\n",
    "        s3_image_filename = img_name\n",
    "        internet_image_url = img_url\n",
    "\n",
    "        # Given an Internet-accessible URL, download the image and upload it to S3,\n",
    "        # without needing to persist the image to disk locally\n",
    "        req_for_image = requests.get(internet_image_url, stream=True)\n",
    "        file_object_from_req = req_for_image.raw\n",
    "        req_data = file_object_from_req.read()\n",
    "\n",
    "        # Do the actual upload to s3\n",
    "        s3.Bucket(bucket_name_to_upload_image_to).put_object(Key=s3_image_filename, Body=req_data)"
   ]
  },
  {
   "cell_type": "code",
   "execution_count": null,
   "metadata": {
    "collapsed": true
   },
   "outputs": [],
   "source": [
    "# Save down your mapping dict so that you can eventually re-map your image tags to your full dataframe.\n",
    "mapping_dict = pd.DataFrame(mapping_dict, index = range(0,len(mapping_dict)))\n",
    "mapping_dict = pd.DataFrame(md_01.T[0])\n",
    "mapping_dict.to_csv('mappingdict.csv')"
   ]
  },
  {
   "cell_type": "markdown",
   "metadata": {},
   "source": [
    "## Developer notes: Below is code for component parts of a big for-loop that creates both wide and long dataframes with image information gathered from AWS Rekognition."
   ]
  },
  {
   "cell_type": "code",
   "execution_count": null,
   "metadata": {
    "collapsed": true
   },
   "outputs": [],
   "source": [
    "#So first off you probably want to look at the output of each tool in rekognition.  (It's different for each one!)\n",
    "#I'm going to focus on:\n",
    "#DetectObjects\n",
    "#RecognizeCelebrities\n",
    "#TextDetection"
   ]
  },
  {
   "cell_type": "markdown",
   "metadata": {},
   "source": [
    "### detect_labels"
   ]
  },
  {
   "cell_type": "code",
   "execution_count": 21,
   "metadata": {
    "collapsed": true
   },
   "outputs": [],
   "source": [
    "# http://docs.aws.amazon.com/rekognition/latest/dg/get-started-exercise.html\n",
    "fileName='img_00007'\n",
    "bucket='880220067832'\n",
    "client=boto3.client('rekognition')\n",
    "## ^^ we only need to do this code once for the following examples. but I include it \n",
    "##    re-instated in case you want to check out different pics.\n",
    "\n",
    "response = client.detect_labels(Image={'S3Object':{'Bucket':bucket,'Name':fileName}},MinConfidence=75)"
   ]
  },
  {
   "cell_type": "code",
   "execution_count": 22,
   "metadata": {
    "collapsed": false
   },
   "outputs": [
    {
     "data": {
      "text/plain": [
       "{'Labels': [{'Confidence': 99.28775787353516, 'Name': 'Human'},\n",
       "  {'Confidence': 99.2877426147461, 'Name': 'People'},\n",
       "  {'Confidence': 99.28775787353516, 'Name': 'Person'},\n",
       "  {'Confidence': 91.67272186279297, 'Name': 'Audience'},\n",
       "  {'Confidence': 91.67272186279297, 'Name': 'Crowd'},\n",
       "  {'Confidence': 91.67272186279297, 'Name': 'Speech'},\n",
       "  {'Confidence': 78.27274322509766, 'Name': 'Clothing'},\n",
       "  {'Confidence': 78.27274322509766, 'Name': 'Coat'},\n",
       "  {'Confidence': 78.27274322509766, 'Name': 'Overcoat'},\n",
       "  {'Confidence': 78.27274322509766, 'Name': 'Suit'}],\n",
       " 'OrientationCorrection': 'ROTATE_0',\n",
       " 'ResponseMetadata': {'HTTPHeaders': {'connection': 'keep-alive',\n",
       "   'content-length': '536',\n",
       "   'content-type': 'application/x-amz-json-1.1',\n",
       "   'date': 'Mon, 04 Dec 2017 03:13:26 GMT',\n",
       "   'x-amzn-requestid': '18599e6b-d8a1-11e7-8234-c9f1716fbb2e'},\n",
       "  'HTTPStatusCode': 200,\n",
       "  'RequestId': '18599e6b-d8a1-11e7-8234-c9f1716fbb2e',\n",
       "  'RetryAttempts': 0}}"
      ]
     },
     "execution_count": 22,
     "metadata": {},
     "output_type": "execute_result"
    }
   ],
   "source": [
    "#take a look at the output\n",
    "response"
   ]
  },
  {
   "cell_type": "code",
   "execution_count": 28,
   "metadata": {
    "collapsed": false
   },
   "outputs": [
    {
     "data": {
      "text/plain": [
       "dict_keys(['OrientationCorrection', 'Labels', 'ResponseMetadata'])"
      ]
     },
     "execution_count": 28,
     "metadata": {},
     "output_type": "execute_result"
    }
   ],
   "source": [
    "response.keys()"
   ]
  },
  {
   "cell_type": "markdown",
   "metadata": {},
   "source": [
    "### detect_text"
   ]
  },
  {
   "cell_type": "code",
   "execution_count": 25,
   "metadata": {
    "collapsed": false
   },
   "outputs": [
    {
     "data": {
      "text/plain": [
       "{'ResponseMetadata': {'HTTPHeaders': {'connection': 'keep-alive',\n",
       "   'content-length': '6048',\n",
       "   'content-type': 'application/x-amz-json-1.1',\n",
       "   'date': 'Mon, 04 Dec 2017 03:21:04 GMT',\n",
       "   'x-amzn-requestid': '2932678b-d8a2-11e7-9290-1792ccb88bc9'},\n",
       "  'HTTPStatusCode': 200,\n",
       "  'RequestId': '2932678b-d8a2-11e7-9290-1792ccb88bc9',\n",
       "  'RetryAttempts': 0},\n",
       " 'TextDetections': [{'Confidence': 87.87747955322266,\n",
       "   'DetectedText': 'Protects',\n",
       "   'Geometry': {'BoundingBox': {'Height': 0.0289202518761158,\n",
       "     'Left': 0.8098856210708618,\n",
       "     'Top': 0.3966602385044098,\n",
       "     'Width': 0.05391734838485718},\n",
       "    'Polygon': [{'X': 0.8098856210708618, 'Y': 0.3966602385044098},\n",
       "     {'X': 0.863802969455719, 'Y': 0.3976689577102661},\n",
       "     {'X': 0.8636319041252136, 'Y': 0.4265892207622528},\n",
       "     {'X': 0.8097145557403564, 'Y': 0.4255805015563965}]},\n",
       "   'Id': 0,\n",
       "   'Type': 'LINE'},\n",
       "  {'Confidence': 81.16915130615234,\n",
       "   'DetectedText': 'Minorcuts',\n",
       "   'Geometry': {'BoundingBox': {'Height': 0.025231996551156044,\n",
       "     'Left': 0.8168795108795166,\n",
       "     'Top': 0.4240514636039734,\n",
       "     'Width': 0.06063205003738403},\n",
       "    'Polygon': [{'X': 0.8168795108795166, 'Y': 0.4240514636039734},\n",
       "     {'X': 0.8775115609169006, 'Y': 0.4253864288330078},\n",
       "     {'X': 0.8773359060287476, 'Y': 0.4506184160709381},\n",
       "     {'X': 0.8167038559913635, 'Y': 0.4492834508419037}]},\n",
       "   'Id': 1,\n",
       "   'Type': 'LINE'},\n",
       "  {'Confidence': 89.12690734863281,\n",
       "   'DetectedText': 'Vaseline. & Burns',\n",
       "   'Geometry': {'BoundingBox': {'Height': 0.059829533100128174,\n",
       "     'Left': 0.6200173497200012,\n",
       "     'Top': 0.4555152654647827,\n",
       "     'Width': 0.24043691158294678},\n",
       "    'Polygon': [{'X': 0.6200173497200012, 'Y': 0.4555152654647827},\n",
       "     {'X': 0.860454261302948, 'Y': 0.43934181332588196},\n",
       "     {'X': 0.8617268800735474, 'Y': 0.49917134642601013},\n",
       "     {'X': 0.6212899684906006, 'Y': 0.5153447985649109}]},\n",
       "   'Id': 2,\n",
       "   'Type': 'LINE'},\n",
       "  {'Confidence': 81.12696075439453,\n",
       "   'DetectedText': '100% petroleumjelly',\n",
       "   'Geometry': {'BoundingBox': {'Height': 0.035030633211135864,\n",
       "     'Left': 0.621286153793335,\n",
       "     'Top': 0.5766656398773193,\n",
       "     'Width': 0.18055865168571472},\n",
       "    'Polygon': [{'X': 0.621286153793335, 'Y': 0.5766656398773193},\n",
       "     {'X': 0.8018448352813721, 'Y': 0.5797303318977356},\n",
       "     {'X': 0.8016567826271057, 'Y': 0.6147609949111938},\n",
       "     {'X': 0.6210981607437134, 'Y': 0.6116962432861328}]},\n",
       "   'Id': 3,\n",
       "   'Type': 'LINE'},\n",
       "  {'Confidence': 83.90192413330078,\n",
       "   'DetectedText': 'originals',\n",
       "   'Geometry': {'BoundingBox': {'Height': 0.03989178687334061,\n",
       "     'Left': 0.6161055564880371,\n",
       "     'Top': 0.61806720495224,\n",
       "     'Width': 0.07922971248626709},\n",
       "    'Polygon': [{'X': 0.6161055564880371, 'Y': 0.61806720495224},\n",
       "     {'X': 0.6953352689743042, 'Y': 0.6189143657684326},\n",
       "     {'X': 0.6952003836631775, 'Y': 0.6588061451911926},\n",
       "     {'X': 0.6159706711769104, 'Y': 0.657958984375}]},\n",
       "   'Id': 4,\n",
       "   'Type': 'LINE'},\n",
       "  {'Confidence': 81.63993835449219,\n",
       "   'DetectedText': 'Wt.13 0z (368g)',\n",
       "   'Geometry': {'BoundingBox': {'Height': 0.03555877134203911,\n",
       "     'Left': 0.7185497879981995,\n",
       "     'Top': 0.6601418256759644,\n",
       "     'Width': 0.07706373929977417},\n",
       "    'Polygon': [{'X': 0.7185497879981995, 'Y': 0.6601418256759644},\n",
       "     {'X': 0.7956135272979736, 'Y': 0.6606138348579407},\n",
       "     {'X': 0.7955446839332581, 'Y': 0.6961725950241089},\n",
       "     {'X': 0.7184809446334839, 'Y': 0.6957005858421326}]},\n",
       "   'Id': 5,\n",
       "   'Type': 'LINE'},\n",
       "  {'Confidence': 87.87747955322266,\n",
       "   'DetectedText': 'Protects',\n",
       "   'Geometry': {'BoundingBox': {'Height': 0.03290235996246338,\n",
       "     'Left': 0.809117317199707,\n",
       "     'Top': 0.3957922160625458,\n",
       "     'Width': 0.05556321144104004},\n",
       "    'Polygon': [{'X': 0.8098856210708618, 'Y': 0.3966602385044098},\n",
       "     {'X': 0.863802969455719, 'Y': 0.3976689577102661},\n",
       "     {'X': 0.8636319041252136, 'Y': 0.4265892207622528},\n",
       "     {'X': 0.8097145557403564, 'Y': 0.4255805015563965}]},\n",
       "   'Id': 6,\n",
       "   'ParentId': 0,\n",
       "   'Type': 'WORD'},\n",
       "  {'Confidence': 81.16915130615234,\n",
       "   'DetectedText': 'Minorcuts',\n",
       "   'Geometry': {'BoundingBox': {'Height': 0.028372764587402344,\n",
       "     'Left': 0.8174862861633301,\n",
       "     'Top': 0.42414212226867676,\n",
       "     'Width': 0.06001150608062744},\n",
       "    'Polygon': [{'X': 0.8168795108795166, 'Y': 0.4240514636039734},\n",
       "     {'X': 0.8775115609169006, 'Y': 0.4253864288330078},\n",
       "     {'X': 0.8773359060287476, 'Y': 0.4506184160709381},\n",
       "     {'X': 0.8167038559913635, 'Y': 0.4492834508419037}]},\n",
       "   'Id': 7,\n",
       "   'ParentId': 1,\n",
       "   'Type': 'WORD'},\n",
       "  {'Confidence': 94.5615463256836,\n",
       "   'DetectedText': 'Vaseline.',\n",
       "   'Geometry': {'BoundingBox': {'Height': 0.05167102813720703,\n",
       "     'Left': 0.6212046146392822,\n",
       "     'Top': 0.45538097620010376,\n",
       "     'Width': 0.12480378150939941},\n",
       "    'Polygon': [{'X': 0.621100127696991, 'Y': 0.4554424285888672},\n",
       "     {'X': 0.7460386157035828, 'Y': 0.4553386867046356},\n",
       "     {'X': 0.7460521459579468, 'Y': 0.5069524049758911},\n",
       "     {'X': 0.621113657951355, 'Y': 0.5070561766624451}]},\n",
       "   'Id': 8,\n",
       "   'ParentId': 2,\n",
       "   'Type': 'WORD'},\n",
       "  {'Confidence': 83.69226837158203,\n",
       "   'DetectedText': '& Burns',\n",
       "   'Geometry': {'BoundingBox': {'Height': 0.028394877910614014,\n",
       "     'Left': 0.8165298700332642,\n",
       "     'Top': 0.4540209174156189,\n",
       "     'Width': 0.04551351070404053},\n",
       "    'Polygon': [{'X': 0.8169975876808167, 'Y': 0.4545084834098816},\n",
       "     {'X': 0.8607665300369263, 'Y': 0.45402204990386963},\n",
       "     {'X': 0.8608580827713013, 'Y': 0.480069100856781},\n",
       "     {'X': 0.8170891404151917, 'Y': 0.48055553436279297}]},\n",
       "   'Id': 9,\n",
       "   'ParentId': 2,\n",
       "   'Type': 'WORD'},\n",
       "  {'Confidence': 75.57787322998047,\n",
       "   'DetectedText': '100%',\n",
       "   'Geometry': {'BoundingBox': {'Height': 0.027785658836364746,\n",
       "     'Left': 0.6207696199417114,\n",
       "     'Top': 0.580116868019104,\n",
       "     'Width': 0.036931633949279785},\n",
       "    'Polygon': [{'X': 0.6212659478187561, 'Y': 0.5804343223571777},\n",
       "     {'X': 0.6571546792984009, 'Y': 0.5807293057441711},\n",
       "     {'X': 0.6570872664451599, 'Y': 0.6066670417785645},\n",
       "     {'X': 0.6211985349655151, 'Y': 0.606372058391571}]},\n",
       "   'Id': 10,\n",
       "   'ParentId': 3,\n",
       "   'Type': 'WORD'},\n",
       "  {'Confidence': 86.6760482788086,\n",
       "   'DetectedText': 'petroleumjelly',\n",
       "   'Geometry': {'BoundingBox': {'Height': 0.032602254301309586,\n",
       "     'Left': 0.6933333277702332,\n",
       "     'Top': 0.5803201198577881,\n",
       "     'Width': 0.07233333587646484},\n",
       "    'Polygon': [{'X': 0.6933333277702332, 'Y': 0.5797273516654968},\n",
       "     {'X': 0.8016666769981384, 'Y': 0.5797273516654968},\n",
       "     {'X': 0.8016666769981384, 'Y': 0.6129223704338074},\n",
       "     {'X': 0.6933333277702332, 'Y': 0.6129223704338074}]},\n",
       "   'Id': 11,\n",
       "   'ParentId': 3,\n",
       "   'Type': 'WORD'},\n",
       "  {'Confidence': 83.90192413330078,\n",
       "   'DetectedText': 'originals',\n",
       "   'Geometry': {'BoundingBox': {'Height': 0.04059624671936035,\n",
       "     'Left': 0.6164647340774536,\n",
       "     'Top': 0.6181583404541016,\n",
       "     'Width': 0.07868921756744385},\n",
       "    'Polygon': [{'X': 0.6161055564880371, 'Y': 0.61806720495224},\n",
       "     {'X': 0.6953352689743042, 'Y': 0.6189143657684326},\n",
       "     {'X': 0.6952003836631775, 'Y': 0.6588061451911926},\n",
       "     {'X': 0.6159706711769104, 'Y': 0.657958984375}]},\n",
       "   'Id': 12,\n",
       "   'ParentId': 4,\n",
       "   'Type': 'WORD'},\n",
       "  {'Confidence': 81.63993835449219,\n",
       "   'DetectedText': 'Wt.13 0z (368g)',\n",
       "   'Geometry': {'BoundingBox': {'Height': 0.03564167022705078,\n",
       "     'Left': 0.7191218733787537,\n",
       "     'Top': 0.6606669425964355,\n",
       "     'Width': 0.07619261741638184},\n",
       "    'Polygon': [{'X': 0.7185497879981995, 'Y': 0.6601418256759644},\n",
       "     {'X': 0.7956135272979736, 'Y': 0.6606138348579407},\n",
       "     {'X': 0.7955446839332581, 'Y': 0.6961725950241089},\n",
       "     {'X': 0.7184809446334839, 'Y': 0.6957005858421326}]},\n",
       "   'Id': 13,\n",
       "   'ParentId': 5,\n",
       "   'Type': 'WORD'}]}"
      ]
     },
     "execution_count": 25,
     "metadata": {},
     "output_type": "execute_result"
    }
   ],
   "source": [
    "fileName= 'img_00006'\n",
    "bucket='880220067832'\n",
    "\n",
    "text_in_image = client.detect_text(Image={'S3Object':{'Bucket':bucket,'Name':fileName}})\n",
    "text_in_image"
   ]
  },
  {
   "cell_type": "code",
   "execution_count": 26,
   "metadata": {
    "collapsed": false
   },
   "outputs": [
    {
     "data": {
      "text/plain": [
       "dict_keys(['TextDetections', 'ResponseMetadata'])"
      ]
     },
     "execution_count": 26,
     "metadata": {},
     "output_type": "execute_result"
    }
   ],
   "source": [
    "text_in_image.keys()"
   ]
  },
  {
   "cell_type": "code",
   "execution_count": 27,
   "metadata": {
    "collapsed": false
   },
   "outputs": [
    {
     "data": {
      "text/plain": [
       "[{'Confidence': 87.87747955322266,\n",
       "  'DetectedText': 'Protects',\n",
       "  'Geometry': {'BoundingBox': {'Height': 0.0289202518761158,\n",
       "    'Left': 0.8098856210708618,\n",
       "    'Top': 0.3966602385044098,\n",
       "    'Width': 0.05391734838485718},\n",
       "   'Polygon': [{'X': 0.8098856210708618, 'Y': 0.3966602385044098},\n",
       "    {'X': 0.863802969455719, 'Y': 0.3976689577102661},\n",
       "    {'X': 0.8636319041252136, 'Y': 0.4265892207622528},\n",
       "    {'X': 0.8097145557403564, 'Y': 0.4255805015563965}]},\n",
       "  'Id': 0,\n",
       "  'Type': 'LINE'},\n",
       " {'Confidence': 81.16915130615234,\n",
       "  'DetectedText': 'Minorcuts',\n",
       "  'Geometry': {'BoundingBox': {'Height': 0.025231996551156044,\n",
       "    'Left': 0.8168795108795166,\n",
       "    'Top': 0.4240514636039734,\n",
       "    'Width': 0.06063205003738403},\n",
       "   'Polygon': [{'X': 0.8168795108795166, 'Y': 0.4240514636039734},\n",
       "    {'X': 0.8775115609169006, 'Y': 0.4253864288330078},\n",
       "    {'X': 0.8773359060287476, 'Y': 0.4506184160709381},\n",
       "    {'X': 0.8167038559913635, 'Y': 0.4492834508419037}]},\n",
       "  'Id': 1,\n",
       "  'Type': 'LINE'},\n",
       " {'Confidence': 89.12690734863281,\n",
       "  'DetectedText': 'Vaseline. & Burns',\n",
       "  'Geometry': {'BoundingBox': {'Height': 0.059829533100128174,\n",
       "    'Left': 0.6200173497200012,\n",
       "    'Top': 0.4555152654647827,\n",
       "    'Width': 0.24043691158294678},\n",
       "   'Polygon': [{'X': 0.6200173497200012, 'Y': 0.4555152654647827},\n",
       "    {'X': 0.860454261302948, 'Y': 0.43934181332588196},\n",
       "    {'X': 0.8617268800735474, 'Y': 0.49917134642601013},\n",
       "    {'X': 0.6212899684906006, 'Y': 0.5153447985649109}]},\n",
       "  'Id': 2,\n",
       "  'Type': 'LINE'},\n",
       " {'Confidence': 81.12696075439453,\n",
       "  'DetectedText': '100% petroleumjelly',\n",
       "  'Geometry': {'BoundingBox': {'Height': 0.035030633211135864,\n",
       "    'Left': 0.621286153793335,\n",
       "    'Top': 0.5766656398773193,\n",
       "    'Width': 0.18055865168571472},\n",
       "   'Polygon': [{'X': 0.621286153793335, 'Y': 0.5766656398773193},\n",
       "    {'X': 0.8018448352813721, 'Y': 0.5797303318977356},\n",
       "    {'X': 0.8016567826271057, 'Y': 0.6147609949111938},\n",
       "    {'X': 0.6210981607437134, 'Y': 0.6116962432861328}]},\n",
       "  'Id': 3,\n",
       "  'Type': 'LINE'},\n",
       " {'Confidence': 83.90192413330078,\n",
       "  'DetectedText': 'originals',\n",
       "  'Geometry': {'BoundingBox': {'Height': 0.03989178687334061,\n",
       "    'Left': 0.6161055564880371,\n",
       "    'Top': 0.61806720495224,\n",
       "    'Width': 0.07922971248626709},\n",
       "   'Polygon': [{'X': 0.6161055564880371, 'Y': 0.61806720495224},\n",
       "    {'X': 0.6953352689743042, 'Y': 0.6189143657684326},\n",
       "    {'X': 0.6952003836631775, 'Y': 0.6588061451911926},\n",
       "    {'X': 0.6159706711769104, 'Y': 0.657958984375}]},\n",
       "  'Id': 4,\n",
       "  'Type': 'LINE'},\n",
       " {'Confidence': 81.63993835449219,\n",
       "  'DetectedText': 'Wt.13 0z (368g)',\n",
       "  'Geometry': {'BoundingBox': {'Height': 0.03555877134203911,\n",
       "    'Left': 0.7185497879981995,\n",
       "    'Top': 0.6601418256759644,\n",
       "    'Width': 0.07706373929977417},\n",
       "   'Polygon': [{'X': 0.7185497879981995, 'Y': 0.6601418256759644},\n",
       "    {'X': 0.7956135272979736, 'Y': 0.6606138348579407},\n",
       "    {'X': 0.7955446839332581, 'Y': 0.6961725950241089},\n",
       "    {'X': 0.7184809446334839, 'Y': 0.6957005858421326}]},\n",
       "  'Id': 5,\n",
       "  'Type': 'LINE'},\n",
       " {'Confidence': 87.87747955322266,\n",
       "  'DetectedText': 'Protects',\n",
       "  'Geometry': {'BoundingBox': {'Height': 0.03290235996246338,\n",
       "    'Left': 0.809117317199707,\n",
       "    'Top': 0.3957922160625458,\n",
       "    'Width': 0.05556321144104004},\n",
       "   'Polygon': [{'X': 0.8098856210708618, 'Y': 0.3966602385044098},\n",
       "    {'X': 0.863802969455719, 'Y': 0.3976689577102661},\n",
       "    {'X': 0.8636319041252136, 'Y': 0.4265892207622528},\n",
       "    {'X': 0.8097145557403564, 'Y': 0.4255805015563965}]},\n",
       "  'Id': 6,\n",
       "  'ParentId': 0,\n",
       "  'Type': 'WORD'},\n",
       " {'Confidence': 81.16915130615234,\n",
       "  'DetectedText': 'Minorcuts',\n",
       "  'Geometry': {'BoundingBox': {'Height': 0.028372764587402344,\n",
       "    'Left': 0.8174862861633301,\n",
       "    'Top': 0.42414212226867676,\n",
       "    'Width': 0.06001150608062744},\n",
       "   'Polygon': [{'X': 0.8168795108795166, 'Y': 0.4240514636039734},\n",
       "    {'X': 0.8775115609169006, 'Y': 0.4253864288330078},\n",
       "    {'X': 0.8773359060287476, 'Y': 0.4506184160709381},\n",
       "    {'X': 0.8167038559913635, 'Y': 0.4492834508419037}]},\n",
       "  'Id': 7,\n",
       "  'ParentId': 1,\n",
       "  'Type': 'WORD'},\n",
       " {'Confidence': 94.5615463256836,\n",
       "  'DetectedText': 'Vaseline.',\n",
       "  'Geometry': {'BoundingBox': {'Height': 0.05167102813720703,\n",
       "    'Left': 0.6212046146392822,\n",
       "    'Top': 0.45538097620010376,\n",
       "    'Width': 0.12480378150939941},\n",
       "   'Polygon': [{'X': 0.621100127696991, 'Y': 0.4554424285888672},\n",
       "    {'X': 0.7460386157035828, 'Y': 0.4553386867046356},\n",
       "    {'X': 0.7460521459579468, 'Y': 0.5069524049758911},\n",
       "    {'X': 0.621113657951355, 'Y': 0.5070561766624451}]},\n",
       "  'Id': 8,\n",
       "  'ParentId': 2,\n",
       "  'Type': 'WORD'},\n",
       " {'Confidence': 83.69226837158203,\n",
       "  'DetectedText': '& Burns',\n",
       "  'Geometry': {'BoundingBox': {'Height': 0.028394877910614014,\n",
       "    'Left': 0.8165298700332642,\n",
       "    'Top': 0.4540209174156189,\n",
       "    'Width': 0.04551351070404053},\n",
       "   'Polygon': [{'X': 0.8169975876808167, 'Y': 0.4545084834098816},\n",
       "    {'X': 0.8607665300369263, 'Y': 0.45402204990386963},\n",
       "    {'X': 0.8608580827713013, 'Y': 0.480069100856781},\n",
       "    {'X': 0.8170891404151917, 'Y': 0.48055553436279297}]},\n",
       "  'Id': 9,\n",
       "  'ParentId': 2,\n",
       "  'Type': 'WORD'},\n",
       " {'Confidence': 75.57787322998047,\n",
       "  'DetectedText': '100%',\n",
       "  'Geometry': {'BoundingBox': {'Height': 0.027785658836364746,\n",
       "    'Left': 0.6207696199417114,\n",
       "    'Top': 0.580116868019104,\n",
       "    'Width': 0.036931633949279785},\n",
       "   'Polygon': [{'X': 0.6212659478187561, 'Y': 0.5804343223571777},\n",
       "    {'X': 0.6571546792984009, 'Y': 0.5807293057441711},\n",
       "    {'X': 0.6570872664451599, 'Y': 0.6066670417785645},\n",
       "    {'X': 0.6211985349655151, 'Y': 0.606372058391571}]},\n",
       "  'Id': 10,\n",
       "  'ParentId': 3,\n",
       "  'Type': 'WORD'},\n",
       " {'Confidence': 86.6760482788086,\n",
       "  'DetectedText': 'petroleumjelly',\n",
       "  'Geometry': {'BoundingBox': {'Height': 0.032602254301309586,\n",
       "    'Left': 0.6933333277702332,\n",
       "    'Top': 0.5803201198577881,\n",
       "    'Width': 0.07233333587646484},\n",
       "   'Polygon': [{'X': 0.6933333277702332, 'Y': 0.5797273516654968},\n",
       "    {'X': 0.8016666769981384, 'Y': 0.5797273516654968},\n",
       "    {'X': 0.8016666769981384, 'Y': 0.6129223704338074},\n",
       "    {'X': 0.6933333277702332, 'Y': 0.6129223704338074}]},\n",
       "  'Id': 11,\n",
       "  'ParentId': 3,\n",
       "  'Type': 'WORD'},\n",
       " {'Confidence': 83.90192413330078,\n",
       "  'DetectedText': 'originals',\n",
       "  'Geometry': {'BoundingBox': {'Height': 0.04059624671936035,\n",
       "    'Left': 0.6164647340774536,\n",
       "    'Top': 0.6181583404541016,\n",
       "    'Width': 0.07868921756744385},\n",
       "   'Polygon': [{'X': 0.6161055564880371, 'Y': 0.61806720495224},\n",
       "    {'X': 0.6953352689743042, 'Y': 0.6189143657684326},\n",
       "    {'X': 0.6952003836631775, 'Y': 0.6588061451911926},\n",
       "    {'X': 0.6159706711769104, 'Y': 0.657958984375}]},\n",
       "  'Id': 12,\n",
       "  'ParentId': 4,\n",
       "  'Type': 'WORD'},\n",
       " {'Confidence': 81.63993835449219,\n",
       "  'DetectedText': 'Wt.13 0z (368g)',\n",
       "  'Geometry': {'BoundingBox': {'Height': 0.03564167022705078,\n",
       "    'Left': 0.7191218733787537,\n",
       "    'Top': 0.6606669425964355,\n",
       "    'Width': 0.07619261741638184},\n",
       "   'Polygon': [{'X': 0.7185497879981995, 'Y': 0.6601418256759644},\n",
       "    {'X': 0.7956135272979736, 'Y': 0.6606138348579407},\n",
       "    {'X': 0.7955446839332581, 'Y': 0.6961725950241089},\n",
       "    {'X': 0.7184809446334839, 'Y': 0.6957005858421326}]},\n",
       "  'Id': 13,\n",
       "  'ParentId': 5,\n",
       "  'Type': 'WORD'}]"
      ]
     },
     "execution_count": 27,
     "metadata": {},
     "output_type": "execute_result"
    }
   ],
   "source": [
    "text_in_image[\"TextDetections\"]"
   ]
  },
  {
   "cell_type": "markdown",
   "metadata": {},
   "source": [
    "### recognize_celebrities"
   ]
  },
  {
   "cell_type": "code",
   "execution_count": 44,
   "metadata": {
    "collapsed": false
   },
   "outputs": [],
   "source": [
    "fileName= 'img_00012'\n",
    "bucket='880220067832'\n",
    "\n",
    "celeb_detect = client.recognize_celebrities(Image={'S3Object':{'Bucket':bucket,'Name':fileName}})"
   ]
  },
  {
   "cell_type": "code",
   "execution_count": 45,
   "metadata": {
    "collapsed": false
   },
   "outputs": [
    {
     "data": {
      "text/plain": [
       "dict_keys(['OrientationCorrection', 'CelebrityFaces', 'UnrecognizedFaces', 'ResponseMetadata'])"
      ]
     },
     "execution_count": 45,
     "metadata": {},
     "output_type": "execute_result"
    }
   ],
   "source": [
    "celeb_detect.keys()"
   ]
  },
  {
   "cell_type": "code",
   "execution_count": 46,
   "metadata": {
    "collapsed": false
   },
   "outputs": [
    {
     "data": {
      "text/plain": [
       "[{'Face': {'BoundingBox': {'Height': 0.10687500238418579,\n",
       "    'Left': 0.4807872474193573,\n",
       "    'Top': 0.15562500059604645,\n",
       "    'Width': 0.16026242077350616},\n",
       "   'Confidence': 99.9999771118164,\n",
       "   'Landmarks': [{'Type': 'eyeLeft',\n",
       "     'X': 0.5403168201446533,\n",
       "     'Y': 0.19756773114204407},\n",
       "    {'Type': 'eyeRight', 'X': 0.5921167731285095, 'Y': 0.20492416620254517},\n",
       "    {'Type': 'nose', 'X': 0.5595902800559998, 'Y': 0.22208547592163086},\n",
       "    {'Type': 'mouthLeft', 'X': 0.5338063836097717, 'Y': 0.23306140303611755},\n",
       "    {'Type': 'mouthRight', 'X': 0.5765158534049988, 'Y': 0.23889882862567902}],\n",
       "   'Pose': {'Pitch': -3.3401520252227783,\n",
       "    'Roll': 11.797859191894531,\n",
       "    'Yaw': -0.263323575258255},\n",
       "   'Quality': {'Brightness': 23.701353073120117,\n",
       "    'Sharpness': 99.99090576171875}},\n",
       "  'Id': '1ax3nr0o',\n",
       "  'MatchConfidence': 94.0,\n",
       "  'Name': 'Kim Kardashian',\n",
       "  'Urls': ['www.imdb.com/name/nm2578007']}]"
      ]
     },
     "execution_count": 46,
     "metadata": {},
     "output_type": "execute_result"
    }
   ],
   "source": [
    "celeb_detect['CelebrityFaces']"
   ]
  },
  {
   "cell_type": "code",
   "execution_count": 42,
   "metadata": {
    "collapsed": false
   },
   "outputs": [
    {
     "data": {
      "text/plain": [
       "'Kim Kardashian'"
      ]
     },
     "execution_count": 42,
     "metadata": {},
     "output_type": "execute_result"
    }
   ],
   "source": [
    "celeb_detect['CelebrityFaces'][0]['Name']"
   ]
  },
  {
   "cell_type": "markdown",
   "metadata": {},
   "source": [
    "## Big for-loop that creates both wide and long df's with our image tags from Rekognition:"
   ]
  },
  {
   "cell_type": "markdown",
   "metadata": {},
   "source": [
    "12/1 Notes: Sometimes due to network conditions, it will throw an error on a specific record. When ran again, that same record will not throw an error.\n",
    "12/1 Notes: This takes a long time to run. May want to only test on ~20 images at first."
   ]
  },
  {
   "cell_type": "code",
   "execution_count": null,
   "metadata": {
    "collapsed": true
   },
   "outputs": [],
   "source": [
    "bucket_name = '##########'\n",
    "s3 = boto3.resource('s3')\n",
    "bucket = s3.Bucket(bucket_name)\n",
    "images = [img.key for img in bucket.objects.all()]\n",
    "client = boto3.client('rekognition')\n",
    "\n",
    "results_wide = []\n",
    "results_long = []\n",
    "\n",
    "for img in images:\n",
    "    img_dict_wide = {'img': img}\n",
    "    #print(img)\n",
    "    try:\n",
    "        labels = client.detect_labels(Image={'S3Object':{'Bucket':bucket_name,'Name':img}},MinConfidence=75)\n",
    "        if 'Labels' in labels:\n",
    "            for l, label in enumerate(labels['Labels']):\n",
    "                results_long.append({'img': img, 'type': 'Label', 'label': label['Name'], \n",
    "                                     'confidence': label['Confidence']})\n",
    "                col = 'label_' + str(l)\n",
    "                img_dict_wide[col] = label['Name']\n",
    "                img_dict_wide[col + '_confidence'] = label['Confidence'] \n",
    "    except:\n",
    "        continue\n",
    "    try:        \n",
    "        celebrities = client.recognize_celebrities(Image={'S3Object':{'Bucket':bucket_name,'Name':img}})\n",
    "        if 'CelebrityFaces' in celebrities:\n",
    "            for f, face in enumerate(celebrities['CelebrityFaces']):\n",
    "                results_long.append({'img': img, 'type': 'Celebrity', 'label': face['Name'], \n",
    "                                     'confidence': face['Face']['Confidence']})\n",
    "                col = 'celeb_' + str(f)\n",
    "                img_dict_wide[col] = face['Name']\n",
    "                img_dict_wide[col + '_confidence'] = face['Face']['Confidence']\n",
    "    except:\n",
    "        continue\n",
    "    try:\n",
    "        text_in_image = client.detect_text(Image={'S3Object':{'Bucket':bucket_name,'Name':img}})\n",
    "        if \"TextDetections\" in text_in_image:\n",
    "            for w, word in enumerate(text_in_image[\"TextDetections\"]):\n",
    "                results_long.append({'img': img, 'type': \"Text\", 'label': word[\"DetectedText\"],\n",
    "                                    'confidence': word[\"Confidence\"]})\n",
    "                col = 'word_' + str(w)\n",
    "                img_dict_wide[col] = word[\"DetectedText\"]\n",
    "                img_dict_wide[col+ '_confidence'] = word[\"Confidence\"]\n",
    "    except:\n",
    "        continue\n",
    "            \n",
    "    if 'Labels' not in labels and 'CelebrityFaces' not in celebrities and \"TextDetections\" not in text_in_image:\n",
    "        results_long.append({'img': img, 'type': None, 'label': None, 'confidence': None})\n",
    "        \n",
    "    results_wide.append(img_dict_wide)\n",
    "####\n",
    "####\n",
    "img_df_long = pd.DataFrame(results_long, columns=['img', 'type', 'label', 'confidence'])\n",
    "img_df_wide = pd.DataFrame(results_wide)\n",
    "cols = sorted(img_df_wide.columns)\n",
    "cols.remove('img')\n",
    "img_df_wide = img_df_wide[['img'] + cols]"
   ]
  },
  {
   "cell_type": "code",
   "execution_count": null,
   "metadata": {
    "collapsed": true
   },
   "outputs": [],
   "source": [
    "# save down your dfs.\n",
    "\n",
    "#For our topic modelers only focused on images data!\n",
    "img_df_long.to_csv(\"twitter_img_text_long.csv\")\n",
    "\n",
    "#For mapping to the dataframe provided to us.\n",
    "img_df_wide.to_csv(\"twitter_img_text_wide.csv\")"
   ]
  }
 ],
 "metadata": {
  "anaconda-cloud": {},
  "kernelspec": {
   "display_name": "Python [conda root]",
   "language": "python",
   "name": "conda-root-py"
  },
  "language_info": {
   "codemirror_mode": {
    "name": "ipython",
    "version": 3
   },
   "file_extension": ".py",
   "mimetype": "text/x-python",
   "name": "python",
   "nbconvert_exporter": "python",
   "pygments_lexer": "ipython3",
   "version": "3.5.2"
  }
 },
 "nbformat": 4,
 "nbformat_minor": 2
}
