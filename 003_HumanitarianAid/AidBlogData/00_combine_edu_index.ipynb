{
 "cells": [
  {
   "cell_type": "code",
   "execution_count": 1,
   "metadata": {
    "collapsed": true
   },
   "outputs": [],
   "source": [
    "import pandas as pd\n",
    "import numpy as np\n",
    "import os\n",
    "%matplotlib inline"
   ]
  },
  {
   "cell_type": "code",
   "execution_count": 2,
   "metadata": {
    "collapsed": false
   },
   "outputs": [],
   "source": [
    "edu = pd.read_excel('WIDE_01Sep2016.xlsx')"
   ]
  },
  {
   "cell_type": "code",
   "execution_count": 3,
   "metadata": {
    "collapsed": false
   },
   "outputs": [
    {
     "data": {
      "text/plain": [
       "Index(['region_group', 'income_group', 'country', 'survey', 'year', 'level',\n",
       "       'grade', 'category', 'subcategory1', 'subcategory2', 'subcategory3',\n",
       "       'preschool_3_m', 'preschool_3_no', 'edu0_prim_m', 'edu0_prim_no',\n",
       "       'comp_prim_v2_m', 'comp_prim_v2_no', 'comp_prim_1524_m',\n",
       "       'comp_prim_1524_no', 'trans_prim_m', 'trans_prim_no',\n",
       "       'comp_lowsec_v2_m', 'comp_lowsec_v2_no', 'comp_lowsec_1524_m',\n",
       "       'comp_lowsec_1524_no', 'trans_lowsec_m', 'trans_lowsec_no',\n",
       "       'comp_upsec_v2_m', 'comp_upsec_v2_no', 'comp_upsec_2029_m',\n",
       "       'comp_upsec_2029_no', 'comp_higher_2529_m', 'comp_higher_2529_no',\n",
       "       'edu_out_pry_m', 'edu_out_pry_no', 'edu_out_lowsec_m',\n",
       "       'edu_out_lowsec_no', 'edu_out_upsec_m', 'edu_out_upsec_no',\n",
       "       'overage2plus_m', 'overage2plus_no', 'edu2_20_m', 'edu2_20_no',\n",
       "       'edu4_20_m', 'edu4_20_no', 'eduyears_20_m', 'eduyears_20_no',\n",
       "       'literacy_1524_m', 'literacy_1524_no', 'mlevel1_m', 'mlevel1_no',\n",
       "       'rlevel1_m', 'rlevel1_no', 'slevel1_m', 'slevel1_no', 'mlevel2_m',\n",
       "       'mlevel2_no', 'rlevel2_m', 'rlevel2_no', 'slevel2_m', 'slevel2_no',\n",
       "       'mlevel3_m', 'mlevel3_no', 'rlevel3_m', 'rlevel3_no', 'slevel3_m',\n",
       "       'slevel3_no', 'mlevel4_m', 'mlevel4_no', 'rlevel4_m', 'rlevel4_no',\n",
       "       'slevel4_m', 'slevel4_no', 'iso_code'],\n",
       "      dtype='object')"
      ]
     },
     "execution_count": 3,
     "metadata": {},
     "output_type": "execute_result"
    }
   ],
   "source": [
    "edu.columns"
   ]
  },
  {
   "cell_type": "code",
   "execution_count": 4,
   "metadata": {
    "collapsed": true
   },
   "outputs": [],
   "source": [
    "edu_df = edu[[\"country\", 'survey', 'year', 'category', 'subcategory1', 'subcategory2', 'subcategory3',\n",
    "              'comp_upsec_v2_m', 'comp_upsec_v2_no', 'comp_upsec_2029_m', 'comp_upsec_2029_no', 'iso_code']]"
   ]
  },
  {
   "cell_type": "code",
   "execution_count": 5,
   "metadata": {
    "collapsed": true
   },
   "outputs": [],
   "source": [
    "edu_df = edu_df[(edu_df['category'] == 'Country Total Sex') & (edu_df['subcategory1'] == 'Female')]"
   ]
  },
  {
   "cell_type": "code",
   "execution_count": 6,
   "metadata": {
    "collapsed": false
   },
   "outputs": [
    {
     "data": {
      "text/html": [
       "<div>\n",
       "<style>\n",
       "    .dataframe thead tr:only-child th {\n",
       "        text-align: right;\n",
       "    }\n",
       "\n",
       "    .dataframe thead th {\n",
       "        text-align: left;\n",
       "    }\n",
       "\n",
       "    .dataframe tbody tr th {\n",
       "        vertical-align: top;\n",
       "    }\n",
       "</style>\n",
       "<table border=\"1\" class=\"dataframe\">\n",
       "  <thead>\n",
       "    <tr style=\"text-align: right;\">\n",
       "      <th></th>\n",
       "      <th>country</th>\n",
       "      <th>survey</th>\n",
       "      <th>year</th>\n",
       "      <th>category</th>\n",
       "      <th>subcategory1</th>\n",
       "      <th>subcategory2</th>\n",
       "      <th>subcategory3</th>\n",
       "      <th>comp_upsec_v2_m</th>\n",
       "      <th>comp_upsec_v2_no</th>\n",
       "      <th>comp_upsec_2029_m</th>\n",
       "      <th>comp_upsec_2029_no</th>\n",
       "      <th>iso_code</th>\n",
       "    </tr>\n",
       "  </thead>\n",
       "  <tbody>\n",
       "    <tr>\n",
       "      <th>12</th>\n",
       "      <td>Afghanistan</td>\n",
       "      <td>MICS</td>\n",
       "      <td>2010.0</td>\n",
       "      <td>Country Total Sex</td>\n",
       "      <td>Female</td>\n",
       "      <td>NaN</td>\n",
       "      <td>NaN</td>\n",
       "      <td>0.055624</td>\n",
       "      <td>2020.0</td>\n",
       "      <td>0.038824</td>\n",
       "      <td>7698.0</td>\n",
       "      <td>AFG</td>\n",
       "    </tr>\n",
       "    <tr>\n",
       "      <th>214</th>\n",
       "      <td>Albania</td>\n",
       "      <td>MICS</td>\n",
       "      <td>2000.0</td>\n",
       "      <td>Country Total Sex</td>\n",
       "      <td>Female</td>\n",
       "      <td>NaN</td>\n",
       "      <td>NaN</td>\n",
       "      <td>0.463958</td>\n",
       "      <td>479.0</td>\n",
       "      <td>0.505189</td>\n",
       "      <td>1533.0</td>\n",
       "      <td>ALB</td>\n",
       "    </tr>\n",
       "    <tr>\n",
       "      <th>324</th>\n",
       "      <td>Albania</td>\n",
       "      <td>MICS</td>\n",
       "      <td>2005.0</td>\n",
       "      <td>Country Total Sex</td>\n",
       "      <td>Female</td>\n",
       "      <td>NaN</td>\n",
       "      <td>NaN</td>\n",
       "      <td>0.483785</td>\n",
       "      <td>470.0</td>\n",
       "      <td>0.477212</td>\n",
       "      <td>1385.0</td>\n",
       "      <td>ALB</td>\n",
       "    </tr>\n",
       "    <tr>\n",
       "      <th>465</th>\n",
       "      <td>Albania</td>\n",
       "      <td>DHS</td>\n",
       "      <td>2008.0</td>\n",
       "      <td>Country Total Sex</td>\n",
       "      <td>Female</td>\n",
       "      <td>NaN</td>\n",
       "      <td>NaN</td>\n",
       "      <td>0.469775</td>\n",
       "      <td>601.0</td>\n",
       "      <td>0.419894</td>\n",
       "      <td>1792.0</td>\n",
       "      <td>ALB</td>\n",
       "    </tr>\n",
       "    <tr>\n",
       "      <th>629</th>\n",
       "      <td>Argentina</td>\n",
       "      <td>EPH</td>\n",
       "      <td>2004.0</td>\n",
       "      <td>Country Total Sex</td>\n",
       "      <td>Female</td>\n",
       "      <td>NaN</td>\n",
       "      <td>NaN</td>\n",
       "      <td>0.658154</td>\n",
       "      <td>2978.0</td>\n",
       "      <td>0.643405</td>\n",
       "      <td>9811.0</td>\n",
       "      <td>ARG</td>\n",
       "    </tr>\n",
       "  </tbody>\n",
       "</table>\n",
       "</div>"
      ],
      "text/plain": [
       "         country survey    year           category subcategory1 subcategory2  \\\n",
       "12   Afghanistan   MICS  2010.0  Country Total Sex       Female          NaN   \n",
       "214      Albania   MICS  2000.0  Country Total Sex       Female          NaN   \n",
       "324      Albania   MICS  2005.0  Country Total Sex       Female          NaN   \n",
       "465      Albania    DHS  2008.0  Country Total Sex       Female          NaN   \n",
       "629    Argentina    EPH  2004.0  Country Total Sex       Female          NaN   \n",
       "\n",
       "    subcategory3  comp_upsec_v2_m  comp_upsec_v2_no  comp_upsec_2029_m  \\\n",
       "12           NaN         0.055624            2020.0           0.038824   \n",
       "214          NaN         0.463958             479.0           0.505189   \n",
       "324          NaN         0.483785             470.0           0.477212   \n",
       "465          NaN         0.469775             601.0           0.419894   \n",
       "629          NaN         0.658154            2978.0           0.643405   \n",
       "\n",
       "     comp_upsec_2029_no iso_code  \n",
       "12               7698.0      AFG  \n",
       "214              1533.0      ALB  \n",
       "324              1385.0      ALB  \n",
       "465              1792.0      ALB  \n",
       "629              9811.0      ARG  "
      ]
     },
     "execution_count": 6,
     "metadata": {},
     "output_type": "execute_result"
    }
   ],
   "source": [
    "edu_df.head()"
   ]
  },
  {
   "cell_type": "code",
   "execution_count": 7,
   "metadata": {
    "collapsed": true
   },
   "outputs": [],
   "source": [
    "edu_df = edu_df[['country', 'survey', 'year', 'comp_upsec_v2_m', 'comp_upsec_2029_m']]"
   ]
  },
  {
   "cell_type": "code",
   "execution_count": 8,
   "metadata": {
    "collapsed": false
   },
   "outputs": [
    {
     "data": {
      "text/html": [
       "<div>\n",
       "<style>\n",
       "    .dataframe thead tr:only-child th {\n",
       "        text-align: right;\n",
       "    }\n",
       "\n",
       "    .dataframe thead th {\n",
       "        text-align: left;\n",
       "    }\n",
       "\n",
       "    .dataframe tbody tr th {\n",
       "        vertical-align: top;\n",
       "    }\n",
       "</style>\n",
       "<table border=\"1\" class=\"dataframe\">\n",
       "  <thead>\n",
       "    <tr style=\"text-align: right;\">\n",
       "      <th></th>\n",
       "      <th>country</th>\n",
       "      <th>survey</th>\n",
       "      <th>year</th>\n",
       "      <th>comp_upsec_v2_m</th>\n",
       "      <th>comp_upsec_2029_m</th>\n",
       "    </tr>\n",
       "  </thead>\n",
       "  <tbody>\n",
       "    <tr>\n",
       "      <th>57618</th>\n",
       "      <td>Morocco</td>\n",
       "      <td>DHS</td>\n",
       "      <td>2003.0</td>\n",
       "      <td>0.173589</td>\n",
       "      <td>0.154292</td>\n",
       "    </tr>\n",
       "    <tr>\n",
       "      <th>57910</th>\n",
       "      <td>Morocco</td>\n",
       "      <td>HYS</td>\n",
       "      <td>2009.0</td>\n",
       "      <td>0.164587</td>\n",
       "      <td>0.141431</td>\n",
       "    </tr>\n",
       "    <tr>\n",
       "      <th>95640</th>\n",
       "      <td>Morocco</td>\n",
       "      <td>PIRLS</td>\n",
       "      <td>2006.0</td>\n",
       "      <td>NaN</td>\n",
       "      <td>NaN</td>\n",
       "    </tr>\n",
       "    <tr>\n",
       "      <th>95708</th>\n",
       "      <td>Morocco</td>\n",
       "      <td>PIRLS</td>\n",
       "      <td>2011.0</td>\n",
       "      <td>NaN</td>\n",
       "      <td>NaN</td>\n",
       "    </tr>\n",
       "    <tr>\n",
       "      <th>131842</th>\n",
       "      <td>Morocco</td>\n",
       "      <td>TIMSS</td>\n",
       "      <td>2003.0</td>\n",
       "      <td>NaN</td>\n",
       "      <td>NaN</td>\n",
       "    </tr>\n",
       "    <tr>\n",
       "      <th>131916</th>\n",
       "      <td>Morocco</td>\n",
       "      <td>TIMSS</td>\n",
       "      <td>2007.0</td>\n",
       "      <td>NaN</td>\n",
       "      <td>NaN</td>\n",
       "    </tr>\n",
       "    <tr>\n",
       "      <th>131990</th>\n",
       "      <td>Morocco</td>\n",
       "      <td>TIMSS</td>\n",
       "      <td>2011.0</td>\n",
       "      <td>NaN</td>\n",
       "      <td>NaN</td>\n",
       "    </tr>\n",
       "    <tr>\n",
       "      <th>132130</th>\n",
       "      <td>Morocco</td>\n",
       "      <td>TIMSS</td>\n",
       "      <td>1999.0</td>\n",
       "      <td>NaN</td>\n",
       "      <td>NaN</td>\n",
       "    </tr>\n",
       "    <tr>\n",
       "      <th>132203</th>\n",
       "      <td>Morocco</td>\n",
       "      <td>TIMSS</td>\n",
       "      <td>2003.0</td>\n",
       "      <td>NaN</td>\n",
       "      <td>NaN</td>\n",
       "    </tr>\n",
       "    <tr>\n",
       "      <th>132273</th>\n",
       "      <td>Morocco</td>\n",
       "      <td>TIMSS</td>\n",
       "      <td>2007.0</td>\n",
       "      <td>NaN</td>\n",
       "      <td>NaN</td>\n",
       "    </tr>\n",
       "    <tr>\n",
       "      <th>132281</th>\n",
       "      <td>Morocco</td>\n",
       "      <td>TIMSS</td>\n",
       "      <td>2011.0</td>\n",
       "      <td>NaN</td>\n",
       "      <td>NaN</td>\n",
       "    </tr>\n",
       "  </tbody>\n",
       "</table>\n",
       "</div>"
      ],
      "text/plain": [
       "        country survey    year  comp_upsec_v2_m  comp_upsec_2029_m\n",
       "57618   Morocco    DHS  2003.0         0.173589           0.154292\n",
       "57910   Morocco    HYS  2009.0         0.164587           0.141431\n",
       "95640   Morocco  PIRLS  2006.0              NaN                NaN\n",
       "95708   Morocco  PIRLS  2011.0              NaN                NaN\n",
       "131842  Morocco  TIMSS  2003.0              NaN                NaN\n",
       "131916  Morocco  TIMSS  2007.0              NaN                NaN\n",
       "131990  Morocco  TIMSS  2011.0              NaN                NaN\n",
       "132130  Morocco  TIMSS  1999.0              NaN                NaN\n",
       "132203  Morocco  TIMSS  2003.0              NaN                NaN\n",
       "132273  Morocco  TIMSS  2007.0              NaN                NaN\n",
       "132281  Morocco  TIMSS  2011.0              NaN                NaN"
      ]
     },
     "execution_count": 8,
     "metadata": {},
     "output_type": "execute_result"
    }
   ],
   "source": [
    "edu_df[edu_df['country'].str.contains(\"Morocco\")]"
   ]
  },
  {
   "cell_type": "code",
   "execution_count": 9,
   "metadata": {
    "collapsed": true
   },
   "outputs": [],
   "source": [
    "edu_df.to_csv('ineq_edu_df.csv')"
   ]
  },
  {
   "cell_type": "code",
   "execution_count": 10,
   "metadata": {
    "collapsed": true
   },
   "outputs": [],
   "source": [
    "edu_df.columns = [[\"COWname\", 'survey', 'year', 'comp_upsec_v2_m', 'comp_upsec_2029_m']]"
   ]
  },
  {
   "cell_type": "code",
   "execution_count": 11,
   "metadata": {
    "collapsed": true
   },
   "outputs": [],
   "source": [
    "count_df = pd.read_csv('ts_aid_df.csv')"
   ]
  },
  {
   "cell_type": "code",
   "execution_count": 12,
   "metadata": {
    "collapsed": true
   },
   "outputs": [],
   "source": [
    "manual_map_list = {\n",
    "    'U. R. Tanzania': 'Tanzania',\n",
    "    'Bolivia, P. S.': 'Bolivia',\n",
    "    'Israel': 'Israel and Palestine',\n",
    "    'Palestine': 'Israel and Palestine',\n",
    "    'Syrian A. R.': 'Syria',\n",
    "    'TFYR Macedonia': 'Macedonia',\n",
    "    'Russian Fed.': 'Russia',\n",
    "    'Republic of Moldova':'Moldova',\n",
    "    'Venezuela, B. R.': 'Venezuela',\n",
    "    'United Arab Emirates':'UAE',\n",
    "    'Lao PDR': 'Laos',\n",
    "    'Iran, I. R.':'Iran',\n",
    "    'Morocco':'Morocco and Western Sahara'\n",
    "    }"
   ]
  },
  {
   "cell_type": "code",
   "execution_count": 13,
   "metadata": {
    "collapsed": true
   },
   "outputs": [],
   "source": [
    "for i in edu_df['COWname']:\n",
    "    try:\n",
    "        edu_df.loc[edu_df['COWname']==i, 'COWname'] = manual_map_list[i]\n",
    "    except:\n",
    "        continue"
   ]
  },
  {
   "cell_type": "code",
   "execution_count": 14,
   "metadata": {
    "collapsed": true
   },
   "outputs": [],
   "source": [
    "count_df = count_df.merge(edu_df, on = [\"COWname\", 'year'], how = 'outer')"
   ]
  },
  {
   "cell_type": "code",
   "execution_count": 15,
   "metadata": {
    "collapsed": false
   },
   "outputs": [
    {
     "data": {
      "text/html": [
       "<div>\n",
       "<style>\n",
       "    .dataframe thead tr:only-child th {\n",
       "        text-align: right;\n",
       "    }\n",
       "\n",
       "    .dataframe thead th {\n",
       "        text-align: left;\n",
       "    }\n",
       "\n",
       "    .dataframe tbody tr th {\n",
       "        vertical-align: top;\n",
       "    }\n",
       "</style>\n",
       "<table border=\"1\" class=\"dataframe\">\n",
       "  <thead>\n",
       "    <tr style=\"text-align: right;\">\n",
       "      <th></th>\n",
       "      <th>Unnamed: 0</th>\n",
       "      <th>year</th>\n",
       "      <th>MENA</th>\n",
       "      <th>SP.POP.TOTL</th>\n",
       "      <th>NY.GDP.MKTP.CD</th>\n",
       "      <th>NY.GDP.MKTP.KD.ZG</th>\n",
       "      <th>NY.GDP.PCAP.CD</th>\n",
       "      <th>polity2</th>\n",
       "      <th>durable</th>\n",
       "      <th>United Nations</th>\n",
       "      <th>United States</th>\n",
       "      <th>United Nations-Womens Aid</th>\n",
       "      <th>United States-Womens Aid</th>\n",
       "      <th>SE.SEC.CUAT.LO.FE.ZS</th>\n",
       "      <th>comp_upsec_v2_m</th>\n",
       "      <th>comp_upsec_2029_m</th>\n",
       "    </tr>\n",
       "  </thead>\n",
       "  <tbody>\n",
       "    <tr>\n",
       "      <th>count</th>\n",
       "      <td>2060.000000</td>\n",
       "      <td>2538.000000</td>\n",
       "      <td>2060.000000</td>\n",
       "      <td>2.058000e+03</td>\n",
       "      <td>2.021000e+03</td>\n",
       "      <td>2021.000000</td>\n",
       "      <td>2021.000000</td>\n",
       "      <td>2021.000000</td>\n",
       "      <td>2060.000000</td>\n",
       "      <td>1.686000e+03</td>\n",
       "      <td>1.686000e+03</td>\n",
       "      <td>1.686000e+03</td>\n",
       "      <td>1.686000e+03</td>\n",
       "      <td>684.000000</td>\n",
       "      <td>403.000000</td>\n",
       "      <td>404.000000</td>\n",
       "    </tr>\n",
       "    <tr>\n",
       "      <th>mean</th>\n",
       "      <td>6517.061650</td>\n",
       "      <td>2006.626478</td>\n",
       "      <td>0.117476</td>\n",
       "      <td>4.253652e+07</td>\n",
       "      <td>3.073518e+11</td>\n",
       "      <td>4.572638</td>\n",
       "      <td>9250.847832</td>\n",
       "      <td>3.663038</td>\n",
       "      <td>22.998058</td>\n",
       "      <td>1.083226e+07</td>\n",
       "      <td>1.624768e+08</td>\n",
       "      <td>1.970901e+06</td>\n",
       "      <td>1.903193e+07</td>\n",
       "      <td>65.518067</td>\n",
       "      <td>0.367327</td>\n",
       "      <td>0.353258</td>\n",
       "    </tr>\n",
       "    <tr>\n",
       "      <th>std</th>\n",
       "      <td>622.722058</td>\n",
       "      <td>4.759899</td>\n",
       "      <td>0.322064</td>\n",
       "      <td>1.484011e+08</td>\n",
       "      <td>1.275919e+12</td>\n",
       "      <td>5.169441</td>\n",
       "      <td>15859.337903</td>\n",
       "      <td>6.248308</td>\n",
       "      <td>26.779241</td>\n",
       "      <td>1.503823e+07</td>\n",
       "      <td>5.078812e+08</td>\n",
       "      <td>2.637223e+06</td>\n",
       "      <td>6.227984e+07</td>\n",
       "      <td>26.102040</td>\n",
       "      <td>0.315963</td>\n",
       "      <td>0.312620</td>\n",
       "    </tr>\n",
       "    <tr>\n",
       "      <th>min</th>\n",
       "      <td>5420.000000</td>\n",
       "      <td>1990.000000</td>\n",
       "      <td>0.000000</td>\n",
       "      <td>4.238530e+05</td>\n",
       "      <td>2.200938e+08</td>\n",
       "      <td>-62.075920</td>\n",
       "      <td>112.849370</td>\n",
       "      <td>-10.000000</td>\n",
       "      <td>0.000000</td>\n",
       "      <td>0.000000e+00</td>\n",
       "      <td>0.000000e+00</td>\n",
       "      <td>0.000000e+00</td>\n",
       "      <td>0.000000e+00</td>\n",
       "      <td>0.941760</td>\n",
       "      <td>0.002312</td>\n",
       "      <td>0.003157</td>\n",
       "    </tr>\n",
       "    <tr>\n",
       "      <th>25%</th>\n",
       "      <td>5986.750000</td>\n",
       "      <td>2003.000000</td>\n",
       "      <td>0.000000</td>\n",
       "      <td>3.765520e+06</td>\n",
       "      <td>6.959697e+09</td>\n",
       "      <td>2.314711</td>\n",
       "      <td>915.267459</td>\n",
       "      <td>-2.000000</td>\n",
       "      <td>7.000000</td>\n",
       "      <td>2.730630e+06</td>\n",
       "      <td>8.011490e+06</td>\n",
       "      <td>4.994690e+05</td>\n",
       "      <td>0.000000e+00</td>\n",
       "      <td>46.445202</td>\n",
       "      <td>0.089443</td>\n",
       "      <td>0.088793</td>\n",
       "    </tr>\n",
       "    <tr>\n",
       "      <th>50%</th>\n",
       "      <td>6502.500000</td>\n",
       "      <td>2007.000000</td>\n",
       "      <td>0.000000</td>\n",
       "      <td>9.999820e+06</td>\n",
       "      <td>2.459532e+10</td>\n",
       "      <td>4.410275</td>\n",
       "      <td>3059.587582</td>\n",
       "      <td>6.000000</td>\n",
       "      <td>15.000000</td>\n",
       "      <td>5.115979e+06</td>\n",
       "      <td>4.430584e+07</td>\n",
       "      <td>1.108458e+06</td>\n",
       "      <td>2.667850e+05</td>\n",
       "      <td>68.584549</td>\n",
       "      <td>0.243402</td>\n",
       "      <td>0.228360</td>\n",
       "    </tr>\n",
       "    <tr>\n",
       "      <th>75%</th>\n",
       "      <td>7054.250000</td>\n",
       "      <td>2011.000000</td>\n",
       "      <td>0.000000</td>\n",
       "      <td>2.699075e+07</td>\n",
       "      <td>1.535450e+11</td>\n",
       "      <td>6.657224</td>\n",
       "      <td>8553.380470</td>\n",
       "      <td>9.000000</td>\n",
       "      <td>30.000000</td>\n",
       "      <td>1.363954e+07</td>\n",
       "      <td>1.297733e+08</td>\n",
       "      <td>2.411940e+06</td>\n",
       "      <td>9.265468e+06</td>\n",
       "      <td>90.232401</td>\n",
       "      <td>0.678152</td>\n",
       "      <td>0.633686</td>\n",
       "    </tr>\n",
       "    <tr>\n",
       "      <th>max</th>\n",
       "      <td>7919.000000</td>\n",
       "      <td>2016.000000</td>\n",
       "      <td>1.000000</td>\n",
       "      <td>1.357380e+09</td>\n",
       "      <td>1.803660e+13</td>\n",
       "      <td>63.379875</td>\n",
       "      <td>106018.492800</td>\n",
       "      <td>10.000000</td>\n",
       "      <td>206.000000</td>\n",
       "      <td>1.693735e+08</td>\n",
       "      <td>1.111868e+10</td>\n",
       "      <td>3.063148e+07</td>\n",
       "      <td>5.965536e+08</td>\n",
       "      <td>100.000000</td>\n",
       "      <td>0.977646</td>\n",
       "      <td>0.967155</td>\n",
       "    </tr>\n",
       "  </tbody>\n",
       "</table>\n",
       "</div>"
      ],
      "text/plain": [
       "        Unnamed: 0         year         MENA   SP.POP.TOTL  NY.GDP.MKTP.CD  \\\n",
       "count  2060.000000  2538.000000  2060.000000  2.058000e+03    2.021000e+03   \n",
       "mean   6517.061650  2006.626478     0.117476  4.253652e+07    3.073518e+11   \n",
       "std     622.722058     4.759899     0.322064  1.484011e+08    1.275919e+12   \n",
       "min    5420.000000  1990.000000     0.000000  4.238530e+05    2.200938e+08   \n",
       "25%    5986.750000  2003.000000     0.000000  3.765520e+06    6.959697e+09   \n",
       "50%    6502.500000  2007.000000     0.000000  9.999820e+06    2.459532e+10   \n",
       "75%    7054.250000  2011.000000     0.000000  2.699075e+07    1.535450e+11   \n",
       "max    7919.000000  2016.000000     1.000000  1.357380e+09    1.803660e+13   \n",
       "\n",
       "       NY.GDP.MKTP.KD.ZG  NY.GDP.PCAP.CD      polity2      durable  \\\n",
       "count        2021.000000     2021.000000  2021.000000  2060.000000   \n",
       "mean            4.572638     9250.847832     3.663038    22.998058   \n",
       "std             5.169441    15859.337903     6.248308    26.779241   \n",
       "min           -62.075920      112.849370   -10.000000     0.000000   \n",
       "25%             2.314711      915.267459    -2.000000     7.000000   \n",
       "50%             4.410275     3059.587582     6.000000    15.000000   \n",
       "75%             6.657224     8553.380470     9.000000    30.000000   \n",
       "max            63.379875   106018.492800    10.000000   206.000000   \n",
       "\n",
       "       United Nations  United States  United Nations-Womens Aid  \\\n",
       "count    1.686000e+03   1.686000e+03               1.686000e+03   \n",
       "mean     1.083226e+07   1.624768e+08               1.970901e+06   \n",
       "std      1.503823e+07   5.078812e+08               2.637223e+06   \n",
       "min      0.000000e+00   0.000000e+00               0.000000e+00   \n",
       "25%      2.730630e+06   8.011490e+06               4.994690e+05   \n",
       "50%      5.115979e+06   4.430584e+07               1.108458e+06   \n",
       "75%      1.363954e+07   1.297733e+08               2.411940e+06   \n",
       "max      1.693735e+08   1.111868e+10               3.063148e+07   \n",
       "\n",
       "       United States-Womens Aid  SE.SEC.CUAT.LO.FE.ZS  comp_upsec_v2_m  \\\n",
       "count              1.686000e+03            684.000000       403.000000   \n",
       "mean               1.903193e+07             65.518067         0.367327   \n",
       "std                6.227984e+07             26.102040         0.315963   \n",
       "min                0.000000e+00              0.941760         0.002312   \n",
       "25%                0.000000e+00             46.445202         0.089443   \n",
       "50%                2.667850e+05             68.584549         0.243402   \n",
       "75%                9.265468e+06             90.232401         0.678152   \n",
       "max                5.965536e+08            100.000000         0.977646   \n",
       "\n",
       "       comp_upsec_2029_m  \n",
       "count         404.000000  \n",
       "mean            0.353258  \n",
       "std             0.312620  \n",
       "min             0.003157  \n",
       "25%             0.088793  \n",
       "50%             0.228360  \n",
       "75%             0.633686  \n",
       "max             0.967155  "
      ]
     },
     "execution_count": 15,
     "metadata": {},
     "output_type": "execute_result"
    }
   ],
   "source": [
    "count_df.describe()"
   ]
  },
  {
   "cell_type": "code",
   "execution_count": 16,
   "metadata": {
    "collapsed": false
   },
   "outputs": [
    {
     "name": "stdout",
     "output_type": "stream",
     "text": [
      "<class 'pandas.core.frame.DataFrame'>\n",
      "Int64Index: 2538 entries, 0 to 2537\n",
      "Data columns (total 18 columns):\n",
      "Unnamed: 0                   2060 non-null float64\n",
      "year                         2538 non-null float64\n",
      "COWname                      2538 non-null object\n",
      "MENA                         2060 non-null float64\n",
      "SP.POP.TOTL                  2058 non-null float64\n",
      "NY.GDP.MKTP.CD               2021 non-null float64\n",
      "NY.GDP.MKTP.KD.ZG            2021 non-null float64\n",
      "NY.GDP.PCAP.CD               2021 non-null float64\n",
      "polity2                      2021 non-null float64\n",
      "durable                      2060 non-null float64\n",
      "United Nations               1686 non-null float64\n",
      "United States                1686 non-null float64\n",
      "United Nations-Womens Aid    1686 non-null float64\n",
      "United States-Womens Aid     1686 non-null float64\n",
      "SE.SEC.CUAT.LO.FE.ZS         684 non-null float64\n",
      "survey                       1148 non-null object\n",
      "comp_upsec_v2_m              403 non-null float64\n",
      "comp_upsec_2029_m            404 non-null float64\n",
      "dtypes: float64(16), object(2)\n",
      "memory usage: 376.7+ KB\n"
     ]
    }
   ],
   "source": [
    "count_df.info()"
   ]
  },
  {
   "cell_type": "code",
   "execution_count": 17,
   "metadata": {
    "collapsed": true
   },
   "outputs": [],
   "source": [
    "a_list = list(count_df['COWname'].unique())"
   ]
  },
  {
   "cell_type": "code",
   "execution_count": 18,
   "metadata": {
    "collapsed": true
   },
   "outputs": [],
   "source": [
    "a_list.sort()"
   ]
  },
  {
   "cell_type": "code",
   "execution_count": 19,
   "metadata": {
    "collapsed": false
   },
   "outputs": [
    {
     "data": {
      "text/plain": [
       "['Afghanistan',\n",
       " 'Albania',\n",
       " 'Algeria',\n",
       " 'Angola',\n",
       " 'Argentina',\n",
       " 'Armenia',\n",
       " 'Australia',\n",
       " 'Austria',\n",
       " 'Azerbaijan',\n",
       " 'Bahrain',\n",
       " 'Bangladesh',\n",
       " 'Barbados',\n",
       " 'Belarus',\n",
       " 'Belgium',\n",
       " 'Belize',\n",
       " 'Benin',\n",
       " 'Bhutan',\n",
       " 'Bolivia',\n",
       " 'Bosnia and Herzegovina',\n",
       " 'Botswana',\n",
       " 'Brazil',\n",
       " 'Bulgaria',\n",
       " 'Burkina Faso',\n",
       " 'Burundi',\n",
       " 'Cambodia',\n",
       " 'Cameroon',\n",
       " 'Canada',\n",
       " 'Cape Verde',\n",
       " 'Central African Republic',\n",
       " 'Chad',\n",
       " 'Chile',\n",
       " 'China',\n",
       " 'Colombia',\n",
       " 'Comoros',\n",
       " 'Congo',\n",
       " 'Costa Rica',\n",
       " 'Croatia',\n",
       " 'Cuba',\n",
       " 'Cyprus',\n",
       " 'Czech Republic',\n",
       " \"Côte d'Ivoire\",\n",
       " 'D. R. Congo',\n",
       " 'Denmark',\n",
       " 'Djibouti',\n",
       " 'Dominican Republic',\n",
       " 'Ecuador',\n",
       " 'Egypt',\n",
       " 'El Salvador',\n",
       " 'Equatorial Guinea',\n",
       " 'Eritrea',\n",
       " 'Estonia',\n",
       " 'Ethiopia',\n",
       " 'Fiji',\n",
       " 'Finland',\n",
       " 'France',\n",
       " 'Gabon',\n",
       " 'Gambia',\n",
       " 'Georgia',\n",
       " 'Germany',\n",
       " 'Ghana',\n",
       " 'Greece',\n",
       " 'Guatemala',\n",
       " 'Guinea',\n",
       " 'Guinea-Bissau',\n",
       " 'Guyana',\n",
       " 'Haiti',\n",
       " 'Honduras',\n",
       " 'Hungary',\n",
       " 'Iceland',\n",
       " 'India',\n",
       " 'Indonesia',\n",
       " 'Iran',\n",
       " 'Iraq',\n",
       " 'Ireland',\n",
       " 'Israel and Palestine',\n",
       " 'Italy',\n",
       " 'Ivory Coast',\n",
       " 'Jamaica',\n",
       " 'Japan',\n",
       " 'Jordan',\n",
       " 'Kazakhstan',\n",
       " 'Kenya',\n",
       " 'Kuwait',\n",
       " 'Kyrgyzstan',\n",
       " 'Laos',\n",
       " 'Latvia',\n",
       " 'Lebanon',\n",
       " 'Lesotho',\n",
       " 'Liberia',\n",
       " 'Libya',\n",
       " 'Liechtenstein',\n",
       " 'Lithuania',\n",
       " 'Luxembourg',\n",
       " 'Macedonia',\n",
       " 'Madagascar',\n",
       " 'Malawi',\n",
       " 'Malaysia',\n",
       " 'Maldives',\n",
       " 'Mali',\n",
       " 'Malta',\n",
       " 'Mauritania',\n",
       " 'Mauritius',\n",
       " 'Mexico',\n",
       " 'Moldova',\n",
       " 'Mongolia',\n",
       " 'Montenegro',\n",
       " 'Morocco and Western Sahara',\n",
       " 'Mozambique',\n",
       " 'Myanmar',\n",
       " 'Namibia',\n",
       " 'Nepal',\n",
       " 'Netherlands',\n",
       " 'New Zealand',\n",
       " 'Nicaragua',\n",
       " 'Niger',\n",
       " 'Nigeria',\n",
       " 'North Korea',\n",
       " 'Norway',\n",
       " 'Oman',\n",
       " 'Pakistan',\n",
       " 'Panama',\n",
       " 'Papua New Guinea',\n",
       " 'Paraguay',\n",
       " 'Peru',\n",
       " 'Philippines',\n",
       " 'Poland',\n",
       " 'Portugal',\n",
       " 'Qatar',\n",
       " 'Republic of Korea',\n",
       " 'Romania',\n",
       " 'Russia',\n",
       " 'Rwanda',\n",
       " 'Saint Lucia',\n",
       " 'Sao Tome and Principe',\n",
       " 'Saudi Arabia',\n",
       " 'Senegal',\n",
       " 'Serbia',\n",
       " 'Seychelles',\n",
       " 'Sierra Leone',\n",
       " 'Singapore',\n",
       " 'Slovakia',\n",
       " 'Slovenia',\n",
       " 'Solomon Islands',\n",
       " 'Somalia',\n",
       " 'South Africa',\n",
       " 'South Korea',\n",
       " 'South Sudan',\n",
       " 'Spain',\n",
       " 'Sri Lanka',\n",
       " 'Sudan',\n",
       " 'Suriname',\n",
       " 'Swaziland',\n",
       " 'Sweden',\n",
       " 'Switzerland',\n",
       " 'Syria',\n",
       " 'Tajikistan',\n",
       " 'Tanzania',\n",
       " 'Thailand',\n",
       " 'Timor-Leste',\n",
       " 'Togo',\n",
       " 'Trinidad and Tobago',\n",
       " 'Tunisia',\n",
       " 'Turkey',\n",
       " 'Turkmenistan',\n",
       " 'UAE',\n",
       " 'Uganda',\n",
       " 'Ukraine',\n",
       " 'United Kindgdom',\n",
       " 'United Kingdom',\n",
       " 'United States',\n",
       " 'United States of America',\n",
       " 'Uruguay',\n",
       " 'Uzbekistan',\n",
       " 'Venezuela',\n",
       " 'Viet Nam',\n",
       " 'Yemen',\n",
       " 'Zambia',\n",
       " 'Zimbabwe']"
      ]
     },
     "execution_count": 19,
     "metadata": {},
     "output_type": "execute_result"
    }
   ],
   "source": [
    "a_list"
   ]
  },
  {
   "cell_type": "code",
   "execution_count": 20,
   "metadata": {
    "collapsed": true
   },
   "outputs": [],
   "source": [
    "samp = count_df[(count_df['SE.SEC.CUAT.LO.FE.ZS'].notnull()) & ((count_df['comp_upsec_v2_m'].notnull()) | \n",
    "         (count_df['comp_upsec_2029_m'].notnull()))]"
   ]
  },
  {
   "cell_type": "code",
   "execution_count": 21,
   "metadata": {
    "collapsed": false
   },
   "outputs": [
    {
     "data": {
      "text/html": [
       "<div>\n",
       "<style>\n",
       "    .dataframe thead tr:only-child th {\n",
       "        text-align: right;\n",
       "    }\n",
       "\n",
       "    .dataframe thead th {\n",
       "        text-align: left;\n",
       "    }\n",
       "\n",
       "    .dataframe tbody tr th {\n",
       "        vertical-align: top;\n",
       "    }\n",
       "</style>\n",
       "<table border=\"1\" class=\"dataframe\">\n",
       "  <thead>\n",
       "    <tr style=\"text-align: right;\">\n",
       "      <th></th>\n",
       "      <th>Unnamed: 0</th>\n",
       "      <th>year</th>\n",
       "      <th>COWname</th>\n",
       "      <th>MENA</th>\n",
       "      <th>SP.POP.TOTL</th>\n",
       "      <th>NY.GDP.MKTP.CD</th>\n",
       "      <th>NY.GDP.MKTP.KD.ZG</th>\n",
       "      <th>NY.GDP.PCAP.CD</th>\n",
       "      <th>polity2</th>\n",
       "      <th>durable</th>\n",
       "      <th>United Nations</th>\n",
       "      <th>United States</th>\n",
       "      <th>United Nations-Womens Aid</th>\n",
       "      <th>United States-Womens Aid</th>\n",
       "      <th>SE.SEC.CUAT.LO.FE.ZS</th>\n",
       "      <th>survey</th>\n",
       "      <th>comp_upsec_v2_m</th>\n",
       "      <th>comp_upsec_2029_m</th>\n",
       "    </tr>\n",
       "  </thead>\n",
       "  <tbody>\n",
       "    <tr>\n",
       "      <th>249</th>\n",
       "      <td>5705.0</td>\n",
       "      <td>2002.0</td>\n",
       "      <td>South Africa</td>\n",
       "      <td>0.0</td>\n",
       "      <td>4.585548e+07</td>\n",
       "      <td>1.154820e+11</td>\n",
       "      <td>3.667797</td>\n",
       "      <td>2518.398261</td>\n",
       "      <td>9.0</td>\n",
       "      <td>8.0</td>\n",
       "      <td>7104103.0</td>\n",
       "      <td>83443732.0</td>\n",
       "      <td>4205858.0</td>\n",
       "      <td>11188784.0</td>\n",
       "      <td>59.745209</td>\n",
       "      <td>GHS</td>\n",
       "      <td>0.357817</td>\n",
       "      <td>0.381775</td>\n",
       "    </tr>\n",
       "    <tr>\n",
       "      <th>445</th>\n",
       "      <td>5909.0</td>\n",
       "      <td>2004.0</td>\n",
       "      <td>Brazil</td>\n",
       "      <td>0.0</td>\n",
       "      <td>1.847385e+08</td>\n",
       "      <td>6.693160e+11</td>\n",
       "      <td>5.759876</td>\n",
       "      <td>3623.047667</td>\n",
       "      <td>8.0</td>\n",
       "      <td>19.0</td>\n",
       "      <td>7642055.0</td>\n",
       "      <td>110719208.0</td>\n",
       "      <td>408789.0</td>\n",
       "      <td>7085973.0</td>\n",
       "      <td>43.184990</td>\n",
       "      <td>PNAD</td>\n",
       "      <td>0.141075</td>\n",
       "      <td>0.153349</td>\n",
       "    </tr>\n",
       "    <tr>\n",
       "      <th>596</th>\n",
       "      <td>6078.0</td>\n",
       "      <td>2005.0</td>\n",
       "      <td>Colombia</td>\n",
       "      <td>0.0</td>\n",
       "      <td>4.328563e+07</td>\n",
       "      <td>1.465660e+11</td>\n",
       "      <td>4.706556</td>\n",
       "      <td>3386.025600</td>\n",
       "      <td>7.0</td>\n",
       "      <td>48.0</td>\n",
       "      <td>5445206.0</td>\n",
       "      <td>834363578.0</td>\n",
       "      <td>789825.0</td>\n",
       "      <td>90687.0</td>\n",
       "      <td>41.212292</td>\n",
       "      <td>DHS</td>\n",
       "      <td>0.626642</td>\n",
       "      <td>0.593579</td>\n",
       "    </tr>\n",
       "    <tr>\n",
       "      <th>602</th>\n",
       "      <td>6084.0</td>\n",
       "      <td>2005.0</td>\n",
       "      <td>Cyprus</td>\n",
       "      <td>0.0</td>\n",
       "      <td>1.027658e+06</td>\n",
       "      <td>1.870315e+10</td>\n",
       "      <td>3.724318</td>\n",
       "      <td>25324.486660</td>\n",
       "      <td>10.0</td>\n",
       "      <td>31.0</td>\n",
       "      <td>NaN</td>\n",
       "      <td>NaN</td>\n",
       "      <td>NaN</td>\n",
       "      <td>NaN</td>\n",
       "      <td>65.845337</td>\n",
       "      <td>EU-SILC</td>\n",
       "      <td>0.932206</td>\n",
       "      <td>0.907583</td>\n",
       "    </tr>\n",
       "    <tr>\n",
       "      <th>611</th>\n",
       "      <td>6097.0</td>\n",
       "      <td>2005.0</td>\n",
       "      <td>France</td>\n",
       "      <td>0.0</td>\n",
       "      <td>6.317936e+07</td>\n",
       "      <td>2.203680e+12</td>\n",
       "      <td>1.607714</td>\n",
       "      <td>34879.726330</td>\n",
       "      <td>9.0</td>\n",
       "      <td>36.0</td>\n",
       "      <td>NaN</td>\n",
       "      <td>NaN</td>\n",
       "      <td>NaN</td>\n",
       "      <td>NaN</td>\n",
       "      <td>71.341049</td>\n",
       "      <td>EU-SILC</td>\n",
       "      <td>0.812363</td>\n",
       "      <td>0.857294</td>\n",
       "    </tr>\n",
       "  </tbody>\n",
       "</table>\n",
       "</div>"
      ],
      "text/plain": [
       "     Unnamed: 0    year       COWname  MENA   SP.POP.TOTL  NY.GDP.MKTP.CD  \\\n",
       "249      5705.0  2002.0  South Africa   0.0  4.585548e+07    1.154820e+11   \n",
       "445      5909.0  2004.0        Brazil   0.0  1.847385e+08    6.693160e+11   \n",
       "596      6078.0  2005.0      Colombia   0.0  4.328563e+07    1.465660e+11   \n",
       "602      6084.0  2005.0        Cyprus   0.0  1.027658e+06    1.870315e+10   \n",
       "611      6097.0  2005.0        France   0.0  6.317936e+07    2.203680e+12   \n",
       "\n",
       "     NY.GDP.MKTP.KD.ZG  NY.GDP.PCAP.CD  polity2  durable  United Nations  \\\n",
       "249           3.667797     2518.398261      9.0      8.0       7104103.0   \n",
       "445           5.759876     3623.047667      8.0     19.0       7642055.0   \n",
       "596           4.706556     3386.025600      7.0     48.0       5445206.0   \n",
       "602           3.724318    25324.486660     10.0     31.0             NaN   \n",
       "611           1.607714    34879.726330      9.0     36.0             NaN   \n",
       "\n",
       "     United States  United Nations-Womens Aid  United States-Womens Aid  \\\n",
       "249     83443732.0                  4205858.0                11188784.0   \n",
       "445    110719208.0                   408789.0                 7085973.0   \n",
       "596    834363578.0                   789825.0                   90687.0   \n",
       "602            NaN                        NaN                       NaN   \n",
       "611            NaN                        NaN                       NaN   \n",
       "\n",
       "     SE.SEC.CUAT.LO.FE.ZS   survey  comp_upsec_v2_m  comp_upsec_2029_m  \n",
       "249             59.745209      GHS         0.357817           0.381775  \n",
       "445             43.184990     PNAD         0.141075           0.153349  \n",
       "596             41.212292      DHS         0.626642           0.593579  \n",
       "602             65.845337  EU-SILC         0.932206           0.907583  \n",
       "611             71.341049  EU-SILC         0.812363           0.857294  "
      ]
     },
     "execution_count": 21,
     "metadata": {},
     "output_type": "execute_result"
    }
   ],
   "source": [
    "samp.head()"
   ]
  },
  {
   "cell_type": "code",
   "execution_count": 22,
   "metadata": {
    "collapsed": false
   },
   "outputs": [
    {
     "data": {
      "text/plain": [
       "74"
      ]
     },
     "execution_count": 22,
     "metadata": {},
     "output_type": "execute_result"
    }
   ],
   "source": [
    "len(samp)"
   ]
  },
  {
   "cell_type": "code",
   "execution_count": 23,
   "metadata": {
    "collapsed": true
   },
   "outputs": [],
   "source": [
    "a_list = []\n",
    "for x, y in zip(samp['SE.SEC.CUAT.LO.FE.ZS'], samp['comp_upsec_v2_m']):\n",
    "    try:\n",
    "        a_list.append((x/100)-y)\n",
    "    except:\n",
    "        a_list.append(0)"
   ]
  },
  {
   "cell_type": "code",
   "execution_count": 24,
   "metadata": {
    "collapsed": false
   },
   "outputs": [
    {
     "data": {
      "text/plain": [
       "[0.23963548740000001,\n",
       " 0.29077529930000001,\n",
       " -0.21451928279999999,\n",
       " -0.27375253090000007,\n",
       " -0.098952508099999892,\n",
       " 0.1033850918,\n",
       " 0.080785320500000091,\n",
       " -0.1279558999999999,\n",
       " 0.10155389920000002,\n",
       " -0.072915304400000047,\n",
       " 0.11299709639999989,\n",
       " 0.049633762499999956,\n",
       " -0.22415280710000002,\n",
       " 0.047011818600000033,\n",
       " -0.12291941849999999,\n",
       " -0.011641266100000047,\n",
       " 0.30783041869999994,\n",
       " 0.034407697940000002,\n",
       " 0.090044298100000003,\n",
       " -0.054902292500000005,\n",
       " 0.30813170049999999,\n",
       " -0.071845816700000009,\n",
       " -0.084816211100000038,\n",
       " -0.039943586699999978,\n",
       " -0.20811948650000001,\n",
       " 0.31784368450000006,\n",
       " -0.15204079050000002,\n",
       " 0.31234139740000005,\n",
       " -0.11714387150000005,\n",
       " 0.31692268509999999,\n",
       " 0.045980614600000025,\n",
       " 0.16735098740000004,\n",
       " -0.22602691860000002,\n",
       " 0.13270056479999992,\n",
       " 0.102058078,\n",
       " 0.031939899600000002,\n",
       " -0.31487481729999994,\n",
       " 0.33591849079999991,\n",
       " 0.18654767569999997,\n",
       " 0.13859291900000004,\n",
       " -0.1469872082,\n",
       " -0.058904101499999972,\n",
       " -0.16720066590000005,\n",
       " 0.070615799610000016,\n",
       " 0.15056240979999996,\n",
       " -0.20635899769999999,\n",
       " 0.33712071490000001,\n",
       " -0.078734984499999938,\n",
       " 0.013877688700000057,\n",
       " 0.22336143709999989,\n",
       " 0.063704302000000018,\n",
       " -0.16623941600000003,\n",
       " 0.26564828219999997,\n",
       " -0.051867498300000037,\n",
       " 0.094908269100000053,\n",
       " -0.19674352910000004,\n",
       " 0.095583805500000008,\n",
       " 0.2182940042,\n",
       " -0.12149920819999993,\n",
       " -0.20108770319999997,\n",
       " -0.067781116899999994,\n",
       " 0.18236946710000002,\n",
       " 0.12700337769999992,\n",
       " 0.099778784899999917,\n",
       " -0.053101181900000016,\n",
       " 0.064259117999999726,\n",
       " -0.097444115299999967,\n",
       " -0.074150884799999983,\n",
       " -0.21910369110000005,\n",
       " 0.041497686100000042,\n",
       " 0.039885597299999964,\n",
       " -0.069973463100000077,\n",
       " 0.14952797119999994,\n",
       " 0.44714638950000007]"
      ]
     },
     "execution_count": 24,
     "metadata": {},
     "output_type": "execute_result"
    }
   ],
   "source": [
    "a_list"
   ]
  },
  {
   "cell_type": "code",
   "execution_count": 25,
   "metadata": {
    "collapsed": true
   },
   "outputs": [],
   "source": [
    "a_list = []\n",
    "for x, y in zip(samp['SE.SEC.CUAT.LO.FE.ZS'], samp['comp_upsec_2029_m']):\n",
    "    try:\n",
    "        a_list.append((x/100)-y)\n",
    "    except:\n",
    "        a_list.append(0)"
   ]
  },
  {
   "cell_type": "code",
   "execution_count": 26,
   "metadata": {
    "collapsed": false
   },
   "outputs": [
    {
     "data": {
      "text/plain": [
       "[0.21567668740000001,\n",
       " 0.27850049929999998,\n",
       " -0.18145628279999992,\n",
       " -0.24912923090000005,\n",
       " -0.14388300809999999,\n",
       " 0.097810691800000016,\n",
       " 0.038373320500000085,\n",
       " -0.11536439999999992,\n",
       " 0.1521557992,\n",
       " -0.035163104400000034,\n",
       " 0.060566796399999956,\n",
       " 0.049761662499999915,\n",
       " -0.27468170710000001,\n",
       " 0.026339718600000062,\n",
       " -0.15260841849999995,\n",
       " -0.016517866100000056,\n",
       " 0.28969641869999996,\n",
       " 0.02967849794,\n",
       " 0.091044898100000007,\n",
       " -0.060215792500000032,\n",
       " 0.29206170050000002,\n",
       " -0.038172516699999992,\n",
       " -0.049833011100000046,\n",
       " 0.0091989133000000001,\n",
       " -0.18720318650000001,\n",
       " 0.36772448450000006,\n",
       " -0.092046890500000034,\n",
       " 0.29813219740000008,\n",
       " -0.10340157149999996,\n",
       " 0.29365738510000006,\n",
       " 0.059760814599999934,\n",
       " 0.20104138740000005,\n",
       " -0.22310631859999996,\n",
       " 0.24482506479999999,\n",
       " 0.27390727800000003,\n",
       " 0.043698399600000007,\n",
       " -0.21561991730000002,\n",
       " 0.31381169079999993,\n",
       " 0.2430721757,\n",
       " 0.19552021900000005,\n",
       " -0.13235780819999998,\n",
       " 0.0039393985000000242,\n",
       " -0.12135346590000007,\n",
       " 0.06812629961000001,\n",
       " 0.23608870979999996,\n",
       " -0.13636519769999994,\n",
       " 0.30500331489999999,\n",
       " -0.088176784499999994,\n",
       " 0.048975088700000002,\n",
       " 0.28848363709999991,\n",
       " 0.073360602000000025,\n",
       " -0.13299991600000005,\n",
       " 0.1891418822,\n",
       " -0.059279398300000063,\n",
       " 0.088707869100000059,\n",
       " -0.16811872910000003,\n",
       " 0.10948440549999994,\n",
       " 0.24403160419999992,\n",
       " -0.077516208199999936,\n",
       " -0.15413280320000006,\n",
       " -0.11006791689999995,\n",
       " 0.1330804671000001,\n",
       " 0.13072407769999994,\n",
       " 0.12774018489999994,\n",
       " -0.013629481900000018,\n",
       " 0.0077415179999997807,\n",
       " -0.078193515299999961,\n",
       " -0.13572328479999995,\n",
       " -0.23955429110000004,\n",
       " 0.077271386100000061,\n",
       " 0.029187197299999967,\n",
       " -0.068461063099999997,\n",
       " 0.17939177119999994,\n",
       " 0.43571318950000004]"
      ]
     },
     "execution_count": 26,
     "metadata": {},
     "output_type": "execute_result"
    }
   ],
   "source": [
    "a_list"
   ]
  },
  {
   "cell_type": "code",
   "execution_count": 27,
   "metadata": {
    "collapsed": true
   },
   "outputs": [],
   "source": [
    "#^^ ok so these are clearly two different measures. rather than doing an analysis on just MENA countries, \n",
    "# we'll see how effective aid is over all to women completing secondary school."
   ]
  },
  {
   "cell_type": "code",
   "execution_count": 28,
   "metadata": {
    "collapsed": true
   },
   "outputs": [],
   "source": [
    "count_df = count_df.drop('Unnamed: 0', axis =1)"
   ]
  },
  {
   "cell_type": "code",
   "execution_count": 29,
   "metadata": {
    "collapsed": true
   },
   "outputs": [],
   "source": [
    "count_df['SE.SEC.CUAT.LO.FE.ZS'] = count_df['SE.SEC.CUAT.LO.FE.ZS']/100"
   ]
  },
  {
   "cell_type": "code",
   "execution_count": 30,
   "metadata": {
    "collapsed": false
   },
   "outputs": [
    {
     "data": {
      "text/plain": [
       "Index(['year', 'COWname', 'MENA', 'SP.POP.TOTL', 'NY.GDP.MKTP.CD',\n",
       "       'NY.GDP.MKTP.KD.ZG', 'NY.GDP.PCAP.CD', 'polity2', 'durable',\n",
       "       'United Nations', 'United States', 'United Nations-Womens Aid',\n",
       "       'United States-Womens Aid', 'SE.SEC.CUAT.LO.FE.ZS', 'survey',\n",
       "       'comp_upsec_v2_m', 'comp_upsec_2029_m'],\n",
       "      dtype='object')"
      ]
     },
     "execution_count": 30,
     "metadata": {},
     "output_type": "execute_result"
    }
   ],
   "source": [
    "count_df.columns"
   ]
  },
  {
   "cell_type": "code",
   "execution_count": 31,
   "metadata": {
    "collapsed": true
   },
   "outputs": [],
   "source": [
    "for i in ['SP.POP.TOTL', 'NY.GDP.MKTP.CD', 'NY.GDP.PCAP.CD', 'United Nations', 'United States',\n",
    "         'United Nations-Womens Aid', 'United States-Womens Aid']:\n",
    "    count_df.loc[count_df[i]!=0, i] = np.log(count_df.loc[count_df[i]!=0, i])"
   ]
  },
  {
   "cell_type": "code",
   "execution_count": 32,
   "metadata": {
    "collapsed": false
   },
   "outputs": [
    {
     "data": {
      "text/html": [
       "<div>\n",
       "<style>\n",
       "    .dataframe thead tr:only-child th {\n",
       "        text-align: right;\n",
       "    }\n",
       "\n",
       "    .dataframe thead th {\n",
       "        text-align: left;\n",
       "    }\n",
       "\n",
       "    .dataframe tbody tr th {\n",
       "        vertical-align: top;\n",
       "    }\n",
       "</style>\n",
       "<table border=\"1\" class=\"dataframe\">\n",
       "  <thead>\n",
       "    <tr style=\"text-align: right;\">\n",
       "      <th></th>\n",
       "      <th>year</th>\n",
       "      <th>COWname</th>\n",
       "      <th>MENA</th>\n",
       "      <th>SP.POP.TOTL</th>\n",
       "      <th>NY.GDP.MKTP.CD</th>\n",
       "      <th>NY.GDP.MKTP.KD.ZG</th>\n",
       "      <th>NY.GDP.PCAP.CD</th>\n",
       "      <th>polity2</th>\n",
       "      <th>durable</th>\n",
       "      <th>United Nations</th>\n",
       "      <th>United States</th>\n",
       "      <th>United Nations-Womens Aid</th>\n",
       "      <th>United States-Womens Aid</th>\n",
       "      <th>SE.SEC.CUAT.LO.FE.ZS</th>\n",
       "      <th>survey</th>\n",
       "      <th>comp_upsec_v2_m</th>\n",
       "      <th>comp_upsec_2029_m</th>\n",
       "    </tr>\n",
       "  </thead>\n",
       "  <tbody>\n",
       "    <tr>\n",
       "      <th>0</th>\n",
       "      <td>2001.0</td>\n",
       "      <td>Afghanistan</td>\n",
       "      <td>0.0</td>\n",
       "      <td>16.858435</td>\n",
       "      <td>21.624104</td>\n",
       "      <td>NaN</td>\n",
       "      <td>4.765669</td>\n",
       "      <td>NaN</td>\n",
       "      <td>0.0</td>\n",
       "      <td>16.581231</td>\n",
       "      <td>16.766128</td>\n",
       "      <td>14.046304</td>\n",
       "      <td>0.000000</td>\n",
       "      <td>NaN</td>\n",
       "      <td>NaN</td>\n",
       "      <td>NaN</td>\n",
       "      <td>NaN</td>\n",
       "    </tr>\n",
       "    <tr>\n",
       "      <th>1</th>\n",
       "      <td>2001.0</td>\n",
       "      <td>Albania</td>\n",
       "      <td>0.0</td>\n",
       "      <td>14.933982</td>\n",
       "      <td>22.124636</td>\n",
       "      <td>7.940331</td>\n",
       "      <td>7.190654</td>\n",
       "      <td>5.0</td>\n",
       "      <td>4.0</td>\n",
       "      <td>14.322935</td>\n",
       "      <td>17.998870</td>\n",
       "      <td>13.605066</td>\n",
       "      <td>14.508213</td>\n",
       "      <td>0.709966</td>\n",
       "      <td>NaN</td>\n",
       "      <td>NaN</td>\n",
       "      <td>NaN</td>\n",
       "    </tr>\n",
       "    <tr>\n",
       "      <th>2</th>\n",
       "      <td>2001.0</td>\n",
       "      <td>Algeria</td>\n",
       "      <td>1.0</td>\n",
       "      <td>17.268419</td>\n",
       "      <td>24.725947</td>\n",
       "      <td>3.008395</td>\n",
       "      <td>7.457527</td>\n",
       "      <td>-3.0</td>\n",
       "      <td>6.0</td>\n",
       "      <td>15.049187</td>\n",
       "      <td>20.193205</td>\n",
       "      <td>12.787503</td>\n",
       "      <td>0.000000</td>\n",
       "      <td>NaN</td>\n",
       "      <td>NaN</td>\n",
       "      <td>NaN</td>\n",
       "      <td>NaN</td>\n",
       "    </tr>\n",
       "    <tr>\n",
       "      <th>3</th>\n",
       "      <td>2001.0</td>\n",
       "      <td>Angola</td>\n",
       "      <td>0.0</td>\n",
       "      <td>16.647739</td>\n",
       "      <td>22.913361</td>\n",
       "      <td>4.220965</td>\n",
       "      <td>6.265622</td>\n",
       "      <td>-3.0</td>\n",
       "      <td>4.0</td>\n",
       "      <td>16.524282</td>\n",
       "      <td>17.690892</td>\n",
       "      <td>15.094777</td>\n",
       "      <td>14.433624</td>\n",
       "      <td>NaN</td>\n",
       "      <td>NaN</td>\n",
       "      <td>NaN</td>\n",
       "      <td>NaN</td>\n",
       "    </tr>\n",
       "    <tr>\n",
       "      <th>4</th>\n",
       "      <td>2001.0</td>\n",
       "      <td>Argentina</td>\n",
       "      <td>0.0</td>\n",
       "      <td>17.439091</td>\n",
       "      <td>26.316850</td>\n",
       "      <td>-4.408840</td>\n",
       "      <td>8.877758</td>\n",
       "      <td>8.0</td>\n",
       "      <td>18.0</td>\n",
       "      <td>14.643022</td>\n",
       "      <td>15.259334</td>\n",
       "      <td>13.250151</td>\n",
       "      <td>0.000000</td>\n",
       "      <td>0.460988</td>\n",
       "      <td>PIRLS</td>\n",
       "      <td>NaN</td>\n",
       "      <td>NaN</td>\n",
       "    </tr>\n",
       "  </tbody>\n",
       "</table>\n",
       "</div>"
      ],
      "text/plain": [
       "     year      COWname  MENA  SP.POP.TOTL  NY.GDP.MKTP.CD  NY.GDP.MKTP.KD.ZG  \\\n",
       "0  2001.0  Afghanistan   0.0    16.858435       21.624104                NaN   \n",
       "1  2001.0      Albania   0.0    14.933982       22.124636           7.940331   \n",
       "2  2001.0      Algeria   1.0    17.268419       24.725947           3.008395   \n",
       "3  2001.0       Angola   0.0    16.647739       22.913361           4.220965   \n",
       "4  2001.0    Argentina   0.0    17.439091       26.316850          -4.408840   \n",
       "\n",
       "   NY.GDP.PCAP.CD  polity2  durable  United Nations  United States  \\\n",
       "0        4.765669      NaN      0.0       16.581231      16.766128   \n",
       "1        7.190654      5.0      4.0       14.322935      17.998870   \n",
       "2        7.457527     -3.0      6.0       15.049187      20.193205   \n",
       "3        6.265622     -3.0      4.0       16.524282      17.690892   \n",
       "4        8.877758      8.0     18.0       14.643022      15.259334   \n",
       "\n",
       "   United Nations-Womens Aid  United States-Womens Aid  SE.SEC.CUAT.LO.FE.ZS  \\\n",
       "0                  14.046304                  0.000000                   NaN   \n",
       "1                  13.605066                 14.508213              0.709966   \n",
       "2                  12.787503                  0.000000                   NaN   \n",
       "3                  15.094777                 14.433624                   NaN   \n",
       "4                  13.250151                  0.000000              0.460988   \n",
       "\n",
       "  survey  comp_upsec_v2_m  comp_upsec_2029_m  \n",
       "0    NaN              NaN                NaN  \n",
       "1    NaN              NaN                NaN  \n",
       "2    NaN              NaN                NaN  \n",
       "3    NaN              NaN                NaN  \n",
       "4  PIRLS              NaN                NaN  "
      ]
     },
     "execution_count": 32,
     "metadata": {},
     "output_type": "execute_result"
    }
   ],
   "source": [
    "count_df.head()"
   ]
  },
  {
   "cell_type": "code",
   "execution_count": 33,
   "metadata": {
    "collapsed": false
   },
   "outputs": [
    {
     "data": {
      "text/html": [
       "<div>\n",
       "<style>\n",
       "    .dataframe thead tr:only-child th {\n",
       "        text-align: right;\n",
       "    }\n",
       "\n",
       "    .dataframe thead th {\n",
       "        text-align: left;\n",
       "    }\n",
       "\n",
       "    .dataframe tbody tr th {\n",
       "        vertical-align: top;\n",
       "    }\n",
       "</style>\n",
       "<table border=\"1\" class=\"dataframe\">\n",
       "  <thead>\n",
       "    <tr style=\"text-align: right;\">\n",
       "      <th></th>\n",
       "      <th>year</th>\n",
       "      <th>COWname</th>\n",
       "      <th>MENA</th>\n",
       "      <th>SP.POP.TOTL</th>\n",
       "      <th>NY.GDP.MKTP.CD</th>\n",
       "      <th>NY.GDP.MKTP.KD.ZG</th>\n",
       "      <th>NY.GDP.PCAP.CD</th>\n",
       "      <th>polity2</th>\n",
       "      <th>durable</th>\n",
       "      <th>United Nations</th>\n",
       "      <th>United States</th>\n",
       "      <th>United Nations-Womens Aid</th>\n",
       "      <th>United States-Womens Aid</th>\n",
       "      <th>SE.SEC.CUAT.LO.FE.ZS</th>\n",
       "      <th>survey</th>\n",
       "      <th>comp_upsec_v2_m</th>\n",
       "      <th>comp_upsec_2029_m</th>\n",
       "    </tr>\n",
       "  </thead>\n",
       "  <tbody>\n",
       "    <tr>\n",
       "      <th>0</th>\n",
       "      <td>2001.0</td>\n",
       "      <td>Afghanistan</td>\n",
       "      <td>0.0</td>\n",
       "      <td>16.858435</td>\n",
       "      <td>21.624104</td>\n",
       "      <td>NaN</td>\n",
       "      <td>4.765669</td>\n",
       "      <td>NaN</td>\n",
       "      <td>0.0</td>\n",
       "      <td>16.581231</td>\n",
       "      <td>16.766128</td>\n",
       "      <td>14.046304</td>\n",
       "      <td>0.000000</td>\n",
       "      <td>NaN</td>\n",
       "      <td>NaN</td>\n",
       "      <td>NaN</td>\n",
       "      <td>NaN</td>\n",
       "    </tr>\n",
       "    <tr>\n",
       "      <th>136</th>\n",
       "      <td>2002.0</td>\n",
       "      <td>Afghanistan</td>\n",
       "      <td>0.0</td>\n",
       "      <td>16.905640</td>\n",
       "      <td>22.141258</td>\n",
       "      <td>NaN</td>\n",
       "      <td>5.235618</td>\n",
       "      <td>NaN</td>\n",
       "      <td>0.0</td>\n",
       "      <td>16.728491</td>\n",
       "      <td>20.305702</td>\n",
       "      <td>14.899597</td>\n",
       "      <td>15.631586</td>\n",
       "      <td>NaN</td>\n",
       "      <td>NaN</td>\n",
       "      <td>NaN</td>\n",
       "      <td>NaN</td>\n",
       "    </tr>\n",
       "    <tr>\n",
       "      <th>272</th>\n",
       "      <td>2003.0</td>\n",
       "      <td>Afghanistan</td>\n",
       "      <td>0.0</td>\n",
       "      <td>16.953820</td>\n",
       "      <td>22.245760</td>\n",
       "      <td>8.444163</td>\n",
       "      <td>5.291940</td>\n",
       "      <td>NaN</td>\n",
       "      <td>0.0</td>\n",
       "      <td>17.094071</td>\n",
       "      <td>20.840867</td>\n",
       "      <td>15.577129</td>\n",
       "      <td>13.950043</td>\n",
       "      <td>NaN</td>\n",
       "      <td>NaN</td>\n",
       "      <td>NaN</td>\n",
       "      <td>NaN</td>\n",
       "    </tr>\n",
       "    <tr>\n",
       "      <th>430</th>\n",
       "      <td>2004.0</td>\n",
       "      <td>Afghanistan</td>\n",
       "      <td>0.0</td>\n",
       "      <td>16.998510</td>\n",
       "      <td>22.388227</td>\n",
       "      <td>1.055556</td>\n",
       "      <td>5.389717</td>\n",
       "      <td>NaN</td>\n",
       "      <td>0.0</td>\n",
       "      <td>16.956380</td>\n",
       "      <td>21.224443</td>\n",
       "      <td>14.513853</td>\n",
       "      <td>13.057279</td>\n",
       "      <td>NaN</td>\n",
       "      <td>NaN</td>\n",
       "      <td>NaN</td>\n",
       "      <td>NaN</td>\n",
       "    </tr>\n",
       "    <tr>\n",
       "      <th>571</th>\n",
       "      <td>2005.0</td>\n",
       "      <td>Afghanistan</td>\n",
       "      <td>0.0</td>\n",
       "      <td>17.037214</td>\n",
       "      <td>22.559851</td>\n",
       "      <td>11.175270</td>\n",
       "      <td>5.522637</td>\n",
       "      <td>NaN</td>\n",
       "      <td>0.0</td>\n",
       "      <td>17.328844</td>\n",
       "      <td>21.402942</td>\n",
       "      <td>14.797726</td>\n",
       "      <td>12.935776</td>\n",
       "      <td>NaN</td>\n",
       "      <td>NaN</td>\n",
       "      <td>NaN</td>\n",
       "      <td>NaN</td>\n",
       "    </tr>\n",
       "  </tbody>\n",
       "</table>\n",
       "</div>"
      ],
      "text/plain": [
       "       year      COWname  MENA  SP.POP.TOTL  NY.GDP.MKTP.CD  \\\n",
       "0    2001.0  Afghanistan   0.0    16.858435       21.624104   \n",
       "136  2002.0  Afghanistan   0.0    16.905640       22.141258   \n",
       "272  2003.0  Afghanistan   0.0    16.953820       22.245760   \n",
       "430  2004.0  Afghanistan   0.0    16.998510       22.388227   \n",
       "571  2005.0  Afghanistan   0.0    17.037214       22.559851   \n",
       "\n",
       "     NY.GDP.MKTP.KD.ZG  NY.GDP.PCAP.CD  polity2  durable  United Nations  \\\n",
       "0                  NaN        4.765669      NaN      0.0       16.581231   \n",
       "136                NaN        5.235618      NaN      0.0       16.728491   \n",
       "272           8.444163        5.291940      NaN      0.0       17.094071   \n",
       "430           1.055556        5.389717      NaN      0.0       16.956380   \n",
       "571          11.175270        5.522637      NaN      0.0       17.328844   \n",
       "\n",
       "     United States  United Nations-Womens Aid  United States-Womens Aid  \\\n",
       "0        16.766128                  14.046304                  0.000000   \n",
       "136      20.305702                  14.899597                 15.631586   \n",
       "272      20.840867                  15.577129                 13.950043   \n",
       "430      21.224443                  14.513853                 13.057279   \n",
       "571      21.402942                  14.797726                 12.935776   \n",
       "\n",
       "     SE.SEC.CUAT.LO.FE.ZS survey  comp_upsec_v2_m  comp_upsec_2029_m  \n",
       "0                     NaN    NaN              NaN                NaN  \n",
       "136                   NaN    NaN              NaN                NaN  \n",
       "272                   NaN    NaN              NaN                NaN  \n",
       "430                   NaN    NaN              NaN                NaN  \n",
       "571                   NaN    NaN              NaN                NaN  "
      ]
     },
     "execution_count": 33,
     "metadata": {},
     "output_type": "execute_result"
    }
   ],
   "source": [
    "# sort by country and year\n",
    "count_df.sort_values(by=['COWname', 'year'], ascending=True, inplace=True)\n",
    "count_df.head()"
   ]
  },
  {
   "cell_type": "code",
   "execution_count": 34,
   "metadata": {
    "collapsed": false
   },
   "outputs": [
    {
     "data": {
      "text/html": [
       "<div>\n",
       "<style>\n",
       "    .dataframe thead tr:only-child th {\n",
       "        text-align: right;\n",
       "    }\n",
       "\n",
       "    .dataframe thead th {\n",
       "        text-align: left;\n",
       "    }\n",
       "\n",
       "    .dataframe tbody tr th {\n",
       "        vertical-align: top;\n",
       "    }\n",
       "</style>\n",
       "<table border=\"1\" class=\"dataframe\">\n",
       "  <thead>\n",
       "    <tr style=\"text-align: right;\">\n",
       "      <th></th>\n",
       "      <th>year</th>\n",
       "      <th>COWname</th>\n",
       "      <th>MENA</th>\n",
       "      <th>SP.POP.TOTL</th>\n",
       "      <th>NY.GDP.MKTP.CD</th>\n",
       "      <th>NY.GDP.MKTP.KD.ZG</th>\n",
       "      <th>NY.GDP.PCAP.CD</th>\n",
       "      <th>polity2</th>\n",
       "      <th>durable</th>\n",
       "      <th>United Nations</th>\n",
       "      <th>...</th>\n",
       "      <th>SE.SEC.CUAT.LO.FE.ZS</th>\n",
       "      <th>survey</th>\n",
       "      <th>comp_upsec_v2_m</th>\n",
       "      <th>comp_upsec_2029_m</th>\n",
       "      <th>pop_lag</th>\n",
       "      <th>gdp_lag</th>\n",
       "      <th>gdp_growth_lag</th>\n",
       "      <th>gdp_pcap_lag</th>\n",
       "      <th>polity2_lag</th>\n",
       "      <th>durable_lag</th>\n",
       "    </tr>\n",
       "  </thead>\n",
       "  <tbody>\n",
       "    <tr>\n",
       "      <th>0</th>\n",
       "      <td>2001.0</td>\n",
       "      <td>Afghanistan</td>\n",
       "      <td>0.0</td>\n",
       "      <td>16.858435</td>\n",
       "      <td>21.624104</td>\n",
       "      <td>NaN</td>\n",
       "      <td>4.765669</td>\n",
       "      <td>NaN</td>\n",
       "      <td>0.0</td>\n",
       "      <td>16.581231</td>\n",
       "      <td>...</td>\n",
       "      <td>NaN</td>\n",
       "      <td>NaN</td>\n",
       "      <td>NaN</td>\n",
       "      <td>NaN</td>\n",
       "      <td>NaN</td>\n",
       "      <td>NaN</td>\n",
       "      <td>NaN</td>\n",
       "      <td>NaN</td>\n",
       "      <td>NaN</td>\n",
       "      <td>NaN</td>\n",
       "    </tr>\n",
       "    <tr>\n",
       "      <th>136</th>\n",
       "      <td>2002.0</td>\n",
       "      <td>Afghanistan</td>\n",
       "      <td>0.0</td>\n",
       "      <td>16.905640</td>\n",
       "      <td>22.141258</td>\n",
       "      <td>NaN</td>\n",
       "      <td>5.235618</td>\n",
       "      <td>NaN</td>\n",
       "      <td>0.0</td>\n",
       "      <td>16.728491</td>\n",
       "      <td>...</td>\n",
       "      <td>NaN</td>\n",
       "      <td>NaN</td>\n",
       "      <td>NaN</td>\n",
       "      <td>NaN</td>\n",
       "      <td>NaN</td>\n",
       "      <td>NaN</td>\n",
       "      <td>NaN</td>\n",
       "      <td>NaN</td>\n",
       "      <td>NaN</td>\n",
       "      <td>NaN</td>\n",
       "    </tr>\n",
       "    <tr>\n",
       "      <th>272</th>\n",
       "      <td>2003.0</td>\n",
       "      <td>Afghanistan</td>\n",
       "      <td>0.0</td>\n",
       "      <td>16.953820</td>\n",
       "      <td>22.245760</td>\n",
       "      <td>8.444163</td>\n",
       "      <td>5.291940</td>\n",
       "      <td>NaN</td>\n",
       "      <td>0.0</td>\n",
       "      <td>17.094071</td>\n",
       "      <td>...</td>\n",
       "      <td>NaN</td>\n",
       "      <td>NaN</td>\n",
       "      <td>NaN</td>\n",
       "      <td>NaN</td>\n",
       "      <td>16.858435</td>\n",
       "      <td>21.624104</td>\n",
       "      <td>NaN</td>\n",
       "      <td>4.765669</td>\n",
       "      <td>NaN</td>\n",
       "      <td>0.0</td>\n",
       "    </tr>\n",
       "    <tr>\n",
       "      <th>430</th>\n",
       "      <td>2004.0</td>\n",
       "      <td>Afghanistan</td>\n",
       "      <td>0.0</td>\n",
       "      <td>16.998510</td>\n",
       "      <td>22.388227</td>\n",
       "      <td>1.055556</td>\n",
       "      <td>5.389717</td>\n",
       "      <td>NaN</td>\n",
       "      <td>0.0</td>\n",
       "      <td>16.956380</td>\n",
       "      <td>...</td>\n",
       "      <td>NaN</td>\n",
       "      <td>NaN</td>\n",
       "      <td>NaN</td>\n",
       "      <td>NaN</td>\n",
       "      <td>16.905640</td>\n",
       "      <td>22.141258</td>\n",
       "      <td>NaN</td>\n",
       "      <td>5.235618</td>\n",
       "      <td>NaN</td>\n",
       "      <td>0.0</td>\n",
       "    </tr>\n",
       "    <tr>\n",
       "      <th>571</th>\n",
       "      <td>2005.0</td>\n",
       "      <td>Afghanistan</td>\n",
       "      <td>0.0</td>\n",
       "      <td>17.037214</td>\n",
       "      <td>22.559851</td>\n",
       "      <td>11.175270</td>\n",
       "      <td>5.522637</td>\n",
       "      <td>NaN</td>\n",
       "      <td>0.0</td>\n",
       "      <td>17.328844</td>\n",
       "      <td>...</td>\n",
       "      <td>NaN</td>\n",
       "      <td>NaN</td>\n",
       "      <td>NaN</td>\n",
       "      <td>NaN</td>\n",
       "      <td>16.953820</td>\n",
       "      <td>22.245760</td>\n",
       "      <td>8.444163</td>\n",
       "      <td>5.291940</td>\n",
       "      <td>NaN</td>\n",
       "      <td>0.0</td>\n",
       "    </tr>\n",
       "  </tbody>\n",
       "</table>\n",
       "<p>5 rows × 23 columns</p>\n",
       "</div>"
      ],
      "text/plain": [
       "       year      COWname  MENA  SP.POP.TOTL  NY.GDP.MKTP.CD  \\\n",
       "0    2001.0  Afghanistan   0.0    16.858435       21.624104   \n",
       "136  2002.0  Afghanistan   0.0    16.905640       22.141258   \n",
       "272  2003.0  Afghanistan   0.0    16.953820       22.245760   \n",
       "430  2004.0  Afghanistan   0.0    16.998510       22.388227   \n",
       "571  2005.0  Afghanistan   0.0    17.037214       22.559851   \n",
       "\n",
       "     NY.GDP.MKTP.KD.ZG  NY.GDP.PCAP.CD  polity2  durable  United Nations  \\\n",
       "0                  NaN        4.765669      NaN      0.0       16.581231   \n",
       "136                NaN        5.235618      NaN      0.0       16.728491   \n",
       "272           8.444163        5.291940      NaN      0.0       17.094071   \n",
       "430           1.055556        5.389717      NaN      0.0       16.956380   \n",
       "571          11.175270        5.522637      NaN      0.0       17.328844   \n",
       "\n",
       "        ...       SE.SEC.CUAT.LO.FE.ZS  survey  comp_upsec_v2_m  \\\n",
       "0       ...                        NaN     NaN              NaN   \n",
       "136     ...                        NaN     NaN              NaN   \n",
       "272     ...                        NaN     NaN              NaN   \n",
       "430     ...                        NaN     NaN              NaN   \n",
       "571     ...                        NaN     NaN              NaN   \n",
       "\n",
       "     comp_upsec_2029_m    pop_lag    gdp_lag  gdp_growth_lag  gdp_pcap_lag  \\\n",
       "0                  NaN        NaN        NaN             NaN           NaN   \n",
       "136                NaN        NaN        NaN             NaN           NaN   \n",
       "272                NaN  16.858435  21.624104             NaN      4.765669   \n",
       "430                NaN  16.905640  22.141258             NaN      5.235618   \n",
       "571                NaN  16.953820  22.245760        8.444163      5.291940   \n",
       "\n",
       "     polity2_lag  durable_lag  \n",
       "0            NaN          NaN  \n",
       "136          NaN          NaN  \n",
       "272          NaN          0.0  \n",
       "430          NaN          0.0  \n",
       "571          NaN          0.0  \n",
       "\n",
       "[5 rows x 23 columns]"
      ]
     },
     "execution_count": 34,
     "metadata": {},
     "output_type": "execute_result"
    }
   ],
   "source": [
    "# lag control variables by two years\n",
    "# we sorted by group and year, so the years are now in proper order to just shift everything \"down\" within the country group\n",
    "count_df['pop_lag'] = count_df.groupby(['COWname'])['SP.POP.TOTL'].shift(2)\n",
    "count_df['gdp_lag'] = count_df.groupby(['COWname'])['NY.GDP.MKTP.CD'].shift(2)\n",
    "count_df['gdp_growth_lag'] = count_df.groupby(['COWname'])['NY.GDP.MKTP.KD.ZG'].shift(2)\n",
    "count_df['gdp_pcap_lag'] = count_df.groupby(['COWname'])['NY.GDP.PCAP.CD'].shift(2)\n",
    "count_df['polity2_lag'] = count_df.groupby(['COWname'])['polity2'].shift(2)\n",
    "count_df['durable_lag'] = count_df.groupby(['COWname'])['durable'].shift(2)\n",
    "count_df.head()"
   ]
  },
  {
   "cell_type": "code",
   "execution_count": 35,
   "metadata": {
    "collapsed": false
   },
   "outputs": [
    {
     "data": {
      "text/html": [
       "<div>\n",
       "<style>\n",
       "    .dataframe thead tr:only-child th {\n",
       "        text-align: right;\n",
       "    }\n",
       "\n",
       "    .dataframe thead th {\n",
       "        text-align: left;\n",
       "    }\n",
       "\n",
       "    .dataframe tbody tr th {\n",
       "        vertical-align: top;\n",
       "    }\n",
       "</style>\n",
       "<table border=\"1\" class=\"dataframe\">\n",
       "  <thead>\n",
       "    <tr style=\"text-align: right;\">\n",
       "      <th></th>\n",
       "      <th>year</th>\n",
       "      <th>COWname</th>\n",
       "      <th>MENA</th>\n",
       "      <th>SP.POP.TOTL</th>\n",
       "      <th>NY.GDP.MKTP.CD</th>\n",
       "      <th>NY.GDP.MKTP.KD.ZG</th>\n",
       "      <th>NY.GDP.PCAP.CD</th>\n",
       "      <th>polity2</th>\n",
       "      <th>durable</th>\n",
       "      <th>United Nations</th>\n",
       "      <th>...</th>\n",
       "      <th>pop_lag</th>\n",
       "      <th>gdp_lag</th>\n",
       "      <th>gdp_growth_lag</th>\n",
       "      <th>gdp_pcap_lag</th>\n",
       "      <th>polity2_lag</th>\n",
       "      <th>durable_lag</th>\n",
       "      <th>UN_aid_lag</th>\n",
       "      <th>US_aid_lag</th>\n",
       "      <th>UN_W_aid_lag</th>\n",
       "      <th>US_W_aid_lag</th>\n",
       "    </tr>\n",
       "  </thead>\n",
       "  <tbody>\n",
       "    <tr>\n",
       "      <th>0</th>\n",
       "      <td>2001.0</td>\n",
       "      <td>Afghanistan</td>\n",
       "      <td>0.0</td>\n",
       "      <td>16.858435</td>\n",
       "      <td>21.624104</td>\n",
       "      <td>NaN</td>\n",
       "      <td>4.765669</td>\n",
       "      <td>NaN</td>\n",
       "      <td>0.0</td>\n",
       "      <td>16.581231</td>\n",
       "      <td>...</td>\n",
       "      <td>NaN</td>\n",
       "      <td>NaN</td>\n",
       "      <td>NaN</td>\n",
       "      <td>NaN</td>\n",
       "      <td>NaN</td>\n",
       "      <td>NaN</td>\n",
       "      <td>NaN</td>\n",
       "      <td>NaN</td>\n",
       "      <td>NaN</td>\n",
       "      <td>NaN</td>\n",
       "    </tr>\n",
       "    <tr>\n",
       "      <th>136</th>\n",
       "      <td>2002.0</td>\n",
       "      <td>Afghanistan</td>\n",
       "      <td>0.0</td>\n",
       "      <td>16.905640</td>\n",
       "      <td>22.141258</td>\n",
       "      <td>NaN</td>\n",
       "      <td>5.235618</td>\n",
       "      <td>NaN</td>\n",
       "      <td>0.0</td>\n",
       "      <td>16.728491</td>\n",
       "      <td>...</td>\n",
       "      <td>NaN</td>\n",
       "      <td>NaN</td>\n",
       "      <td>NaN</td>\n",
       "      <td>NaN</td>\n",
       "      <td>NaN</td>\n",
       "      <td>NaN</td>\n",
       "      <td>16.581231</td>\n",
       "      <td>16.766128</td>\n",
       "      <td>14.046304</td>\n",
       "      <td>0.000000</td>\n",
       "    </tr>\n",
       "    <tr>\n",
       "      <th>272</th>\n",
       "      <td>2003.0</td>\n",
       "      <td>Afghanistan</td>\n",
       "      <td>0.0</td>\n",
       "      <td>16.953820</td>\n",
       "      <td>22.245760</td>\n",
       "      <td>8.444163</td>\n",
       "      <td>5.291940</td>\n",
       "      <td>NaN</td>\n",
       "      <td>0.0</td>\n",
       "      <td>17.094071</td>\n",
       "      <td>...</td>\n",
       "      <td>16.858435</td>\n",
       "      <td>21.624104</td>\n",
       "      <td>NaN</td>\n",
       "      <td>4.765669</td>\n",
       "      <td>NaN</td>\n",
       "      <td>0.0</td>\n",
       "      <td>16.728491</td>\n",
       "      <td>20.305702</td>\n",
       "      <td>14.899597</td>\n",
       "      <td>15.631586</td>\n",
       "    </tr>\n",
       "    <tr>\n",
       "      <th>430</th>\n",
       "      <td>2004.0</td>\n",
       "      <td>Afghanistan</td>\n",
       "      <td>0.0</td>\n",
       "      <td>16.998510</td>\n",
       "      <td>22.388227</td>\n",
       "      <td>1.055556</td>\n",
       "      <td>5.389717</td>\n",
       "      <td>NaN</td>\n",
       "      <td>0.0</td>\n",
       "      <td>16.956380</td>\n",
       "      <td>...</td>\n",
       "      <td>16.905640</td>\n",
       "      <td>22.141258</td>\n",
       "      <td>NaN</td>\n",
       "      <td>5.235618</td>\n",
       "      <td>NaN</td>\n",
       "      <td>0.0</td>\n",
       "      <td>17.094071</td>\n",
       "      <td>20.840867</td>\n",
       "      <td>15.577129</td>\n",
       "      <td>13.950043</td>\n",
       "    </tr>\n",
       "    <tr>\n",
       "      <th>571</th>\n",
       "      <td>2005.0</td>\n",
       "      <td>Afghanistan</td>\n",
       "      <td>0.0</td>\n",
       "      <td>17.037214</td>\n",
       "      <td>22.559851</td>\n",
       "      <td>11.175270</td>\n",
       "      <td>5.522637</td>\n",
       "      <td>NaN</td>\n",
       "      <td>0.0</td>\n",
       "      <td>17.328844</td>\n",
       "      <td>...</td>\n",
       "      <td>16.953820</td>\n",
       "      <td>22.245760</td>\n",
       "      <td>8.444163</td>\n",
       "      <td>5.291940</td>\n",
       "      <td>NaN</td>\n",
       "      <td>0.0</td>\n",
       "      <td>16.956380</td>\n",
       "      <td>21.224443</td>\n",
       "      <td>14.513853</td>\n",
       "      <td>13.057279</td>\n",
       "    </tr>\n",
       "  </tbody>\n",
       "</table>\n",
       "<p>5 rows × 27 columns</p>\n",
       "</div>"
      ],
      "text/plain": [
       "       year      COWname  MENA  SP.POP.TOTL  NY.GDP.MKTP.CD  \\\n",
       "0    2001.0  Afghanistan   0.0    16.858435       21.624104   \n",
       "136  2002.0  Afghanistan   0.0    16.905640       22.141258   \n",
       "272  2003.0  Afghanistan   0.0    16.953820       22.245760   \n",
       "430  2004.0  Afghanistan   0.0    16.998510       22.388227   \n",
       "571  2005.0  Afghanistan   0.0    17.037214       22.559851   \n",
       "\n",
       "     NY.GDP.MKTP.KD.ZG  NY.GDP.PCAP.CD  polity2  durable  United Nations  \\\n",
       "0                  NaN        4.765669      NaN      0.0       16.581231   \n",
       "136                NaN        5.235618      NaN      0.0       16.728491   \n",
       "272           8.444163        5.291940      NaN      0.0       17.094071   \n",
       "430           1.055556        5.389717      NaN      0.0       16.956380   \n",
       "571          11.175270        5.522637      NaN      0.0       17.328844   \n",
       "\n",
       "         ...         pop_lag    gdp_lag  gdp_growth_lag  gdp_pcap_lag  \\\n",
       "0        ...             NaN        NaN             NaN           NaN   \n",
       "136      ...             NaN        NaN             NaN           NaN   \n",
       "272      ...       16.858435  21.624104             NaN      4.765669   \n",
       "430      ...       16.905640  22.141258             NaN      5.235618   \n",
       "571      ...       16.953820  22.245760        8.444163      5.291940   \n",
       "\n",
       "    polity2_lag  durable_lag  UN_aid_lag  US_aid_lag  UN_W_aid_lag  \\\n",
       "0           NaN          NaN         NaN         NaN           NaN   \n",
       "136         NaN          NaN   16.581231   16.766128     14.046304   \n",
       "272         NaN          0.0   16.728491   20.305702     14.899597   \n",
       "430         NaN          0.0   17.094071   20.840867     15.577129   \n",
       "571         NaN          0.0   16.956380   21.224443     14.513853   \n",
       "\n",
       "     US_W_aid_lag  \n",
       "0             NaN  \n",
       "136      0.000000  \n",
       "272     15.631586  \n",
       "430     13.950043  \n",
       "571     13.057279  \n",
       "\n",
       "[5 rows x 27 columns]"
      ]
     },
     "execution_count": 35,
     "metadata": {},
     "output_type": "execute_result"
    }
   ],
   "source": [
    "# lag aid by one year\n",
    "count_df['UN_aid_lag'] = count_df.groupby(['COWname'])['United Nations'].shift(1)\n",
    "count_df['US_aid_lag'] = count_df.groupby(['COWname'])['United States'].shift(1)\n",
    "count_df['UN_W_aid_lag'] = count_df.groupby(['COWname'])['United Nations-Womens Aid'].shift(1)\n",
    "count_df['US_W_aid_lag'] = count_df.groupby(['COWname'])['United States-Womens Aid'].shift(1)\n",
    "count_df.head()"
   ]
  },
  {
   "cell_type": "code",
   "execution_count": 36,
   "metadata": {
    "collapsed": false
   },
   "outputs": [],
   "source": [
    "sample = count_df[['year', 'COWname', 'SP.POP.TOTL', 'NY.GDP.MKTP.CD', 'United Nations', \"United States\", 'pop_lag', 'gdp_lag', 'UN_aid_lag', 'US_aid_lag']].head()"
   ]
  },
  {
   "cell_type": "code",
   "execution_count": 37,
   "metadata": {
    "collapsed": false
   },
   "outputs": [
    {
     "data": {
      "text/html": [
       "<div>\n",
       "<style>\n",
       "    .dataframe thead tr:only-child th {\n",
       "        text-align: right;\n",
       "    }\n",
       "\n",
       "    .dataframe thead th {\n",
       "        text-align: left;\n",
       "    }\n",
       "\n",
       "    .dataframe tbody tr th {\n",
       "        vertical-align: top;\n",
       "    }\n",
       "</style>\n",
       "<table border=\"1\" class=\"dataframe\">\n",
       "  <thead>\n",
       "    <tr style=\"text-align: right;\">\n",
       "      <th></th>\n",
       "      <th>year</th>\n",
       "      <th>COWname</th>\n",
       "      <th>SP.POP.TOTL</th>\n",
       "      <th>NY.GDP.MKTP.CD</th>\n",
       "      <th>United Nations</th>\n",
       "      <th>United States</th>\n",
       "      <th>pop_lag</th>\n",
       "      <th>gdp_lag</th>\n",
       "      <th>UN_aid_lag</th>\n",
       "      <th>US_aid_lag</th>\n",
       "    </tr>\n",
       "  </thead>\n",
       "  <tbody>\n",
       "    <tr>\n",
       "      <th>0</th>\n",
       "      <td>2001.0</td>\n",
       "      <td>Afghanistan</td>\n",
       "      <td>16.858435</td>\n",
       "      <td>21.624104</td>\n",
       "      <td>16.581231</td>\n",
       "      <td>16.766128</td>\n",
       "      <td>NaN</td>\n",
       "      <td>NaN</td>\n",
       "      <td>NaN</td>\n",
       "      <td>NaN</td>\n",
       "    </tr>\n",
       "    <tr>\n",
       "      <th>136</th>\n",
       "      <td>2002.0</td>\n",
       "      <td>Afghanistan</td>\n",
       "      <td>16.905640</td>\n",
       "      <td>22.141258</td>\n",
       "      <td>16.728491</td>\n",
       "      <td>20.305702</td>\n",
       "      <td>NaN</td>\n",
       "      <td>NaN</td>\n",
       "      <td>16.581231</td>\n",
       "      <td>16.766128</td>\n",
       "    </tr>\n",
       "    <tr>\n",
       "      <th>272</th>\n",
       "      <td>2003.0</td>\n",
       "      <td>Afghanistan</td>\n",
       "      <td>16.953820</td>\n",
       "      <td>22.245760</td>\n",
       "      <td>17.094071</td>\n",
       "      <td>20.840867</td>\n",
       "      <td>16.858435</td>\n",
       "      <td>21.624104</td>\n",
       "      <td>16.728491</td>\n",
       "      <td>20.305702</td>\n",
       "    </tr>\n",
       "    <tr>\n",
       "      <th>430</th>\n",
       "      <td>2004.0</td>\n",
       "      <td>Afghanistan</td>\n",
       "      <td>16.998510</td>\n",
       "      <td>22.388227</td>\n",
       "      <td>16.956380</td>\n",
       "      <td>21.224443</td>\n",
       "      <td>16.905640</td>\n",
       "      <td>22.141258</td>\n",
       "      <td>17.094071</td>\n",
       "      <td>20.840867</td>\n",
       "    </tr>\n",
       "    <tr>\n",
       "      <th>571</th>\n",
       "      <td>2005.0</td>\n",
       "      <td>Afghanistan</td>\n",
       "      <td>17.037214</td>\n",
       "      <td>22.559851</td>\n",
       "      <td>17.328844</td>\n",
       "      <td>21.402942</td>\n",
       "      <td>16.953820</td>\n",
       "      <td>22.245760</td>\n",
       "      <td>16.956380</td>\n",
       "      <td>21.224443</td>\n",
       "    </tr>\n",
       "  </tbody>\n",
       "</table>\n",
       "</div>"
      ],
      "text/plain": [
       "       year      COWname  SP.POP.TOTL  NY.GDP.MKTP.CD  United Nations  \\\n",
       "0    2001.0  Afghanistan    16.858435       21.624104       16.581231   \n",
       "136  2002.0  Afghanistan    16.905640       22.141258       16.728491   \n",
       "272  2003.0  Afghanistan    16.953820       22.245760       17.094071   \n",
       "430  2004.0  Afghanistan    16.998510       22.388227       16.956380   \n",
       "571  2005.0  Afghanistan    17.037214       22.559851       17.328844   \n",
       "\n",
       "     United States    pop_lag    gdp_lag  UN_aid_lag  US_aid_lag  \n",
       "0        16.766128        NaN        NaN         NaN         NaN  \n",
       "136      20.305702        NaN        NaN   16.581231   16.766128  \n",
       "272      20.840867  16.858435  21.624104   16.728491   20.305702  \n",
       "430      21.224443  16.905640  22.141258   17.094071   20.840867  \n",
       "571      21.402942  16.953820  22.245760   16.956380   21.224443  "
      ]
     },
     "execution_count": 37,
     "metadata": {},
     "output_type": "execute_result"
    }
   ],
   "source": [
    "sample"
   ]
  },
  {
   "cell_type": "code",
   "execution_count": 38,
   "metadata": {
    "collapsed": true
   },
   "outputs": [],
   "source": [
    "sample.columns = ['year', 'country', 'log_population', 'log_gdp', 'UN_aid', 'US_aid', 'pop_lag_2','gdp_lag_2', 'UN_aid_lag_1', 'US_aid_lag_1' ]"
   ]
  },
  {
   "cell_type": "code",
   "execution_count": 39,
   "metadata": {
    "collapsed": false
   },
   "outputs": [
    {
     "name": "stderr",
     "output_type": "stream",
     "text": [
      "/Users/nmolivo/anaconda/lib/python3.5/site-packages/sklearn/cross_validation.py:41: DeprecationWarning: This module was deprecated in version 0.18 in favor of the model_selection module into which all the refactored classes and functions are moved. Also note that the interface of the new CV iterators are different from that of this module. This module will be removed in 0.20.\n",
      "  \"This module will be removed in 0.20.\", DeprecationWarning)\n"
     ]
    }
   ],
   "source": [
    "from sklearn.cross_validation import train_test_split\n",
    "from sklearn.ensemble import GradientBoostingRegressor\n",
    "from sklearn.ensemble.partial_dependence import plot_partial_dependence\n",
    "from sklearn.ensemble.partial_dependence import partial_dependence"
   ]
  },
  {
   "cell_type": "markdown",
   "metadata": {},
   "source": [
    "ok we're going to fit three models.\n",
    "- One where we use the World Bank indicator, \n",
    "- the second where we use the first World Inequality Database on Education indicator\n",
    "- the thrid we use the second World Inequality Database on Education indicator"
   ]
  },
  {
   "cell_type": "markdown",
   "metadata": {},
   "source": [
    "## Model 1 Target Variable: WDI data on women's completion of secondary education"
   ]
  },
  {
   "cell_type": "code",
   "execution_count": 42,
   "metadata": {
    "collapsed": false
   },
   "outputs": [
    {
     "name": "stderr",
     "output_type": "stream",
     "text": [
      "/Users/nmolivo/anaconda/lib/python3.5/site-packages/ipykernel/__main__.py:3: SettingWithCopyWarning: \n",
      "A value is trying to be set on a copy of a slice from a DataFrame\n",
      "\n",
      "See the caveats in the documentation: http://pandas.pydata.org/pandas-docs/stable/indexing.html#indexing-view-versus-copy\n",
      "  app.launch_new_instance()\n"
     ]
    }
   ],
   "source": [
    "model_1 = count_df[['pop_lag', 'gdp_lag', 'gdp_growth_lag', 'gdp_pcap_lag', 'polity2_lag', 'durable_lag', \n",
    "                    'UN_aid_lag', 'US_aid_lag', 'UN_W_aid_lag', 'US_W_aid_lag', 'SE.SEC.CUAT.LO.FE.ZS']]\n",
    "model_1.dropna(inplace = True)\n",
    "\n",
    "X_1 = model_1[['pop_lag', 'gdp_lag', 'gdp_growth_lag', 'gdp_pcap_lag', 'polity2_lag', 'durable_lag', \n",
    "               'UN_aid_lag', 'US_aid_lag', 'UN_W_aid_lag', 'US_W_aid_lag']]\n",
    "y_1 = model_1['SE.SEC.CUAT.LO.FE.ZS']"
   ]
  },
  {
   "cell_type": "code",
   "execution_count": 43,
   "metadata": {
    "collapsed": false
   },
   "outputs": [
    {
     "data": {
      "text/plain": [
       "GradientBoostingRegressor(alpha=0.9, criterion='friedman_mse', init=None,\n",
       "             learning_rate=0.1, loss='ls', max_depth=3, max_features=None,\n",
       "             max_leaf_nodes=None, min_impurity_decrease=0.0,\n",
       "             min_impurity_split=None, min_samples_leaf=1,\n",
       "             min_samples_split=2, min_weight_fraction_leaf=0.0,\n",
       "             n_estimators=100, presort='auto', random_state=None,\n",
       "             subsample=1.0, verbose=0, warm_start=False)"
      ]
     },
     "execution_count": 43,
     "metadata": {},
     "output_type": "execute_result"
    }
   ],
   "source": [
    "gbr = GradientBoostingRegressor()\n",
    "gbr.fit(X_1, y_1)"
   ]
  },
  {
   "cell_type": "code",
   "execution_count": 44,
   "metadata": {
    "collapsed": false
   },
   "outputs": [
    {
     "data": {
      "text/plain": [
       "0.95782552327446435"
      ]
     },
     "execution_count": 44,
     "metadata": {},
     "output_type": "execute_result"
    }
   ],
   "source": [
    "gbr.score(X_1, y_1)"
   ]
  },
  {
   "cell_type": "code",
   "execution_count": 45,
   "metadata": {
    "collapsed": false
   },
   "outputs": [
    {
     "data": {
      "text/plain": [
       "[('pop_lag', 0.1853481357449957),\n",
       " ('gdp_lag', 0.089341110501354362),\n",
       " ('gdp_growth_lag', 0.097840443364413152),\n",
       " ('gdp_pcap_lag', 0.123150046194237),\n",
       " ('polity2_lag', 0.11525732147882016),\n",
       " ('durable_lag', 0.10337460922119832),\n",
       " ('UN_aid_lag', 0.10861707646717743),\n",
       " ('US_aid_lag', 0.086208066996979457),\n",
       " ('UN_W_aid_lag', 0.069808941694587553),\n",
       " ('US_W_aid_lag', 0.021054248336236828)]"
      ]
     },
     "execution_count": 45,
     "metadata": {},
     "output_type": "execute_result"
    }
   ],
   "source": [
    "list(zip(X_1.columns, gbr.feature_importances_))"
   ]
  },
  {
   "cell_type": "code",
   "execution_count": 46,
   "metadata": {
    "collapsed": true
   },
   "outputs": [],
   "source": [
    "imp = pd.DataFrame({'importance': list(gbr.feature_importances_)}, index=X_1.columns)\n",
    "imp.sort_values(by='importance', ascending=False, inplace=True)"
   ]
  },
  {
   "cell_type": "code",
   "execution_count": 47,
   "metadata": {
    "collapsed": false
   },
   "outputs": [
    {
     "data": {
      "text/html": [
       "<div>\n",
       "<style>\n",
       "    .dataframe thead tr:only-child th {\n",
       "        text-align: right;\n",
       "    }\n",
       "\n",
       "    .dataframe thead th {\n",
       "        text-align: left;\n",
       "    }\n",
       "\n",
       "    .dataframe tbody tr th {\n",
       "        vertical-align: top;\n",
       "    }\n",
       "</style>\n",
       "<table border=\"1\" class=\"dataframe\">\n",
       "  <thead>\n",
       "    <tr style=\"text-align: right;\">\n",
       "      <th></th>\n",
       "      <th>importance</th>\n",
       "    </tr>\n",
       "  </thead>\n",
       "  <tbody>\n",
       "    <tr>\n",
       "      <th>pop_lag</th>\n",
       "      <td>0.185348</td>\n",
       "    </tr>\n",
       "    <tr>\n",
       "      <th>gdp_pcap_lag</th>\n",
       "      <td>0.123150</td>\n",
       "    </tr>\n",
       "    <tr>\n",
       "      <th>polity2_lag</th>\n",
       "      <td>0.115257</td>\n",
       "    </tr>\n",
       "    <tr>\n",
       "      <th>UN_aid_lag</th>\n",
       "      <td>0.108617</td>\n",
       "    </tr>\n",
       "    <tr>\n",
       "      <th>durable_lag</th>\n",
       "      <td>0.103375</td>\n",
       "    </tr>\n",
       "  </tbody>\n",
       "</table>\n",
       "</div>"
      ],
      "text/plain": [
       "              importance\n",
       "pop_lag         0.185348\n",
       "gdp_pcap_lag    0.123150\n",
       "polity2_lag     0.115257\n",
       "UN_aid_lag      0.108617\n",
       "durable_lag     0.103375"
      ]
     },
     "execution_count": 47,
     "metadata": {},
     "output_type": "execute_result"
    }
   ],
   "source": [
    "imp.head()"
   ]
  },
  {
   "cell_type": "code",
   "execution_count": 48,
   "metadata": {
    "collapsed": false
   },
   "outputs": [
    {
     "data": {
      "text/plain": [
       "<matplotlib.axes._subplots.AxesSubplot at 0x118c05cc0>"
      ]
     },
     "execution_count": 48,
     "metadata": {},
     "output_type": "execute_result"
    },
    {
     "data": {
      "image/png": "[encoded data removed]",
      "text/plain": [
       "<matplotlib.figure.Figure at 0x115bac080>"
      ]
     },
     "metadata": {},
     "output_type": "display_data"
    }
   ],
   "source": [
    "%matplotlib inline\n",
    "imp.plot(kind='barh', fontsize=24, figsize=(10,10))"
   ]
  },
  {
   "cell_type": "code",
   "execution_count": 50,
   "metadata": {
    "collapsed": false
   },
   "outputs": [],
   "source": [
    "model_counts = count_df[['COWname', 'year', 'pop_lag', 'gdp_lag', 'gdp_growth_lag', 'gdp_pcap_lag', 'polity2_lag', 'durable_lag', \n",
    "                    'UN_aid_lag', 'US_aid_lag', 'UN_W_aid_lag', 'US_W_aid_lag', 'SE.SEC.CUAT.LO.FE.ZS']]"
   ]
  },
  {
   "cell_type": "code",
   "execution_count": 51,
   "metadata": {
    "collapsed": false
   },
   "outputs": [
    {
     "name": "stderr",
     "output_type": "stream",
     "text": [
      "/Users/nmolivo/anaconda/lib/python3.5/site-packages/ipykernel/__main__.py:1: SettingWithCopyWarning: \n",
      "A value is trying to be set on a copy of a slice from a DataFrame\n",
      "\n",
      "See the caveats in the documentation: http://pandas.pydata.org/pandas-docs/stable/indexing.html#indexing-view-versus-copy\n",
      "  if __name__ == '__main__':\n"
     ]
    }
   ],
   "source": [
    "model_counts.dropna(inplace=True)"
   ]
  },
  {
   "cell_type": "code",
   "execution_count": 57,
   "metadata": {
    "collapsed": false
   },
   "outputs": [
    {
     "data": {
      "text/plain": [
       "array([ 2008.,  2011.,  2012.,  2006.,  2003.,  2007.,  2009.,  2010.,\n",
       "        2013.,  2004.,  2005.])"
      ]
     },
     "execution_count": 57,
     "metadata": {},
     "output_type": "execute_result"
    }
   ],
   "source": [
    "model_counts['year'].unique()"
   ]
  },
  {
   "cell_type": "markdown",
   "metadata": {},
   "source": [
    "## Model 2 Target Variable: World Inequality Database indicator on women's completion of (lower) secondary education"
   ]
  },
  {
   "cell_type": "code",
   "execution_count": 58,
   "metadata": {
    "collapsed": false
   },
   "outputs": [
    {
     "name": "stderr",
     "output_type": "stream",
     "text": [
      "/Users/nmolivo/anaconda/lib/python3.5/site-packages/ipykernel/__main__.py:3: SettingWithCopyWarning: \n",
      "A value is trying to be set on a copy of a slice from a DataFrame\n",
      "\n",
      "See the caveats in the documentation: http://pandas.pydata.org/pandas-docs/stable/indexing.html#indexing-view-versus-copy\n",
      "  app.launch_new_instance()\n"
     ]
    }
   ],
   "source": [
    "model_2 = count_df[['pop_lag', 'gdp_lag', 'gdp_growth_lag', 'gdp_pcap_lag', 'polity2_lag', 'durable_lag', \n",
    "                    'UN_aid_lag', 'US_aid_lag', 'UN_W_aid_lag', 'US_W_aid_lag', 'comp_upsec_v2_m']]\n",
    "model_2.dropna(inplace = True)\n",
    "\n",
    "X_2 = model_2[['pop_lag', 'gdp_lag', 'gdp_growth_lag', 'gdp_pcap_lag', 'polity2_lag', 'durable_lag', \n",
    "               'UN_aid_lag', 'US_aid_lag', 'UN_W_aid_lag', 'US_W_aid_lag']]\n",
    "y_2 = model_2['comp_upsec_v2_m']"
   ]
  },
  {
   "cell_type": "code",
   "execution_count": 60,
   "metadata": {
    "collapsed": false
   },
   "outputs": [
    {
     "data": {
      "text/plain": [
       "0.96918873725142218"
      ]
     },
     "execution_count": 60,
     "metadata": {},
     "output_type": "execute_result"
    }
   ],
   "source": [
    "gbr = GradientBoostingRegressor()\n",
    "gbr.fit(X_2, y_2)\n",
    "gbr.score(X_2, y_2)"
   ]
  },
  {
   "cell_type": "code",
   "execution_count": 66,
   "metadata": {
    "collapsed": true
   },
   "outputs": [],
   "source": [
    "imp = pd.DataFrame({'importance': list(gbr.feature_importances_)}, index=X_2.columns)\n",
    "imp.sort_values(by='importance', ascending=False, inplace=True)"
   ]
  },
  {
   "cell_type": "code",
   "execution_count": 67,
   "metadata": {
    "collapsed": false
   },
   "outputs": [
    {
     "data": {
      "text/plain": [
       "<matplotlib.axes._subplots.AxesSubplot at 0x118f92358>"
      ]
     },
     "execution_count": 67,
     "metadata": {},
     "output_type": "execute_result"
    },
    {
     "data": {
      "image/png": "[encoded data removed]",
      "text/plain": [
       "<matplotlib.figure.Figure at 0x1193a4a20>"
      ]
     },
     "metadata": {},
     "output_type": "display_data"
    }
   ],
   "source": [
    "imp.plot(kind='barh', fontsize=24, figsize=(10,10))"
   ]
  },
  {
   "cell_type": "markdown",
   "metadata": {},
   "source": [
    "## Model 3 Target Variable: World Inequality Database indicator on women's completion of (upper) secondary education"
   ]
  },
  {
   "cell_type": "code",
   "execution_count": 64,
   "metadata": {
    "collapsed": false
   },
   "outputs": [
    {
     "name": "stderr",
     "output_type": "stream",
     "text": [
      "/Users/nmolivo/anaconda/lib/python3.5/site-packages/ipykernel/__main__.py:3: SettingWithCopyWarning: \n",
      "A value is trying to be set on a copy of a slice from a DataFrame\n",
      "\n",
      "See the caveats in the documentation: http://pandas.pydata.org/pandas-docs/stable/indexing.html#indexing-view-versus-copy\n",
      "  app.launch_new_instance()\n"
     ]
    }
   ],
   "source": [
    "model_3 = count_df[['pop_lag', 'gdp_lag', 'gdp_growth_lag', 'gdp_pcap_lag', 'polity2_lag', 'durable_lag', \n",
    "                    'UN_aid_lag', 'US_aid_lag', 'UN_W_aid_lag', 'US_W_aid_lag', 'comp_upsec_2029_m']]\n",
    "model_3.dropna(inplace = True)\n",
    "\n",
    "X_3 = model_3[['pop_lag', 'gdp_lag', 'gdp_growth_lag', 'gdp_pcap_lag', 'polity2_lag', 'durable_lag', \n",
    "               'UN_aid_lag', 'US_aid_lag', 'UN_W_aid_lag', 'US_W_aid_lag']]\n",
    "y_3 = model_3['comp_upsec_2029_m']"
   ]
  },
  {
   "cell_type": "code",
   "execution_count": 65,
   "metadata": {
    "collapsed": false
   },
   "outputs": [
    {
     "data": {
      "text/plain": [
       "0.97082107423459874"
      ]
     },
     "execution_count": 65,
     "metadata": {},
     "output_type": "execute_result"
    }
   ],
   "source": [
    "gbr = GradientBoostingRegressor()\n",
    "gbr.fit(X_3, y_3)\n",
    "gbr.score(X_3, y_3)"
   ]
  },
  {
   "cell_type": "code",
   "execution_count": 68,
   "metadata": {
    "collapsed": true
   },
   "outputs": [],
   "source": [
    "imp = pd.DataFrame({'importance': list(gbr.feature_importances_)}, index=X_3.columns)\n",
    "imp.sort_values(by='importance', ascending=False, inplace=True)"
   ]
  },
  {
   "cell_type": "code",
   "execution_count": 71,
   "metadata": {
    "collapsed": false
   },
   "outputs": [
    {
     "data": {
      "text/plain": [
       "<matplotlib.axes._subplots.AxesSubplot at 0x11a0239e8>"
      ]
     },
     "execution_count": 71,
     "metadata": {},
     "output_type": "execute_result"
    },
    {
     "data": {
      "image/png": "[encoded data removed]",
      "text/plain": [
       "<matplotlib.figure.Figure at 0x119fd9c18>"
      ]
     },
     "metadata": {},
     "output_type": "display_data"
    }
   ],
   "source": [
    "imp.plot(kind='barh', fontsize=24, figsize=(10,10))"
   ]
  },
  {
   "cell_type": "code",
   "execution_count": null,
   "metadata": {
    "collapsed": true
   },
   "outputs": [],
   "source": []
  }
 ],
 "metadata": {
  "anaconda-cloud": {},
  "kernelspec": {
   "display_name": "Python [default]",
   "language": "python",
   "name": "python3"
  },
  "language_info": {
   "codemirror_mode": {
    "name": "ipython",
    "version": 3
   },
   "file_extension": ".py",
   "mimetype": "text/x-python",
   "name": "python",
   "nbconvert_exporter": "python",
   "pygments_lexer": "ipython3",
   "version": "3.5.2"
  }
 },
 "nbformat": 4,
 "nbformat_minor": 2
}
